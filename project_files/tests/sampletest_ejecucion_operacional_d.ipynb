{
 "cells": [
  {
   "cell_type": "code",
   "execution_count": 5,
   "metadata": {
    "ExecuteTime": {
     "end_time": "2021-03-10T01:27:01.862062Z",
     "start_time": "2021-03-10T01:27:01.846140Z"
    }
   },
   "outputs": [],
   "source": [
    "# PAQUETES PARA CORRER OP.\n",
    "import numpy as np\n",
    "import pandas as pd\n",
    "import datetime as dt\n",
    "import json\n",
    "import wmf.wmf as wmf\n",
    "import hydroeval\n",
    "import glob\n",
    "import SHop\n",
    "import hidrologia\n",
    "import os\n",
    "\n",
    "import seaborn as sns\n",
    "sns.set(style=\"whitegrid\")\n",
    "sns.set_context('notebook', font_scale=1.13)\n",
    "\n",
    "#FORMATO\n",
    "# fuente\n",
    "import matplotlib\n",
    "matplotlib.use('Agg')\n",
    "import matplotlib.font_manager as fm\n",
    "import matplotlib.dates as mdates\n",
    "import matplotlib.font_manager as font_manager\n",
    "font_dirs = ['/home/socastillogi/jupyter/fuentes/AvenirLTStd-Book']\n",
    "font_files = font_manager.findSystemFonts(fontpaths=font_dirs)\n",
    "font_list = font_manager.createFontList(font_files)\n",
    "font_manager.fontManager.ttflist.extend(font_list)\n",
    "matplotlib.rcParams['font.family'] = 'Avenir LT Std'\n",
    "matplotlib.rcParams['font.size']=11\n",
    "import pylab as pl \n",
    "#axes\n",
    "# pl.rc('axes',labelcolor='#4f4f4f')\n",
    "# pl.rc('axes',linewidth=1.5)\n",
    "# pl.rc('axes',edgecolor='#bdb9b6')\n",
    "pl.rc('text',color= '#4f4f4f')\n",
    "\n",
    "#avoid warnings\n",
    "import warnings\n",
    "warnings.filterwarnings('ignore')"
   ]
  },
  {
   "cell_type": "code",
   "execution_count": 2,
   "metadata": {
    "ExecuteTime": {
     "end_time": "2021-03-09T23:20:55.592114Z",
     "start_time": "2021-03-09T23:20:55.585808Z"
    }
   },
   "outputs": [],
   "source": [
    "# PAQUETES A CORRER EN PLANTILLA.\n",
    "import matplotlib.pylab as pl \n",
    "%matplotlib inline"
   ]
  },
  {
   "cell_type": "code",
   "execution_count": null,
   "metadata": {},
   "outputs": [],
   "source": []
  },
  {
   "cell_type": "markdown",
   "metadata": {},
   "source": [
    "### Ejecución diaria\n"
   ]
  },
  {
   "cell_type": "code",
   "execution_count": 3,
   "metadata": {
    "ExecuteTime": {
     "end_time": "2021-03-09T23:20:57.252055Z",
     "start_time": "2021-03-09T23:20:57.247223Z"
    }
   },
   "outputs": [],
   "source": [
    "############################################################################################  FECHA\n",
    "date_ev = pd.to_datetime('2021-03-09 18:00')\n"
   ]
  },
  {
   "cell_type": "code",
   "execution_count": 4,
   "metadata": {
    "ExecuteTime": {
     "end_time": "2021-03-09T23:51:18.911448Z",
     "start_time": "2021-03-09T23:21:03.759324Z"
    },
    "code_folding": [
     0
    ]
   },
   "outputs": [
    {
     "name": "stdout",
     "output_type": "stream",
     "text": [
      "2021-03-09 18:21:03.777860\n",
      "######\n",
      "Start DAILY execution: 2021-03-09 18:21:03.890211\n",
      "WARNING: converting rain data, it may take a while ---- dt:86400.0\n",
      ".bin & .hdr saved\n",
      "/home/socastillogi/jupyter/SH_op/SHop_E260_90m_1d/SHop/project_files/results/results_op/rain_op/202011300000_202103010000-SHop_E260_90m_1d.bin\n",
      "SERVER_CON: Succesful connection to Sal\n",
      "Start simulations: 2021-03-09 18:51:16.805542\n",
      "start: 2020-12-01 00:00:00 - end: 2021-03-01 00:00:00\n",
      "Warning: model will save states in all time steps this may require a lot of space\n",
      "Config. -p01ci1-/home/socastillogi/jupyter/SH_op/SHop_E260_90m_1d/SHop/project_files/results/results_h/Qsim_hist-p01-ci1-90d.csv ejecutado\n",
      "End simulations: 2021-03-09 18:51:18.908700\n"
     ]
    }
   ],
   "source": [
    "############################################################################################  ARGUMENTOS\n",
    "print (dt.datetime.now())\n",
    "\n",
    "ruta_proj = '/home/socastillogi/jupyter/SH_op/SHop_E260_90m_1d/SHop/project_files/'\n",
    "configfile=ruta_proj+'inputs/configfile_SHop_E260_90m_1d.md'\n",
    "save_hist = False #####################################################False for first times\n",
    "dateformat_starts = '%Y-%m-%d'\n",
    "date = pd.to_datetime(date_ev.strftime(dateformat_starts))\n",
    "ConfigList= SHop.get_rutesList(configfile)\n",
    "\n",
    "############################################################################################ EJECUCION\n",
    "\n",
    "ConfigList= SHop.get_rutesList(configfile)\n",
    "# abrir simubasin\n",
    "path_ncbasin = SHop.get_ruta(ConfigList,'ruta_proj')+SHop.get_ruta(ConfigList,'ruta_nc')\n",
    "cu = wmf.SimuBasin(rute=path_ncbasin)\n",
    "\n",
    "#sets para correr modelo.\n",
    "SHop.set_modelsettings(ConfigList)\n",
    "warming_steps =  0#pasos de simulacion, dependen del dt.\n",
    "warming_window ='%ss'%int(wmf.models.dt * warming_steps) #siempre en seg\n",
    "dateformat_starts = '%Y-%m-%d'\n",
    "\n",
    "starts  = ['%ss'%(90*24*60*60)]#,'%ss'%(90*24*60*60)] #60d back\n",
    "starts_names = ['90d']#,'1d'] #starts y starts_names deben ser del mismo len.\n",
    "window_end = '0s' #none\n",
    "\n",
    "print ('######')\n",
    "print ('Start DAILY execution: %s'%dt.datetime.now()) \n",
    "\n",
    "#dates\n",
    "date = (pd.to_datetime(pd.to_datetime(date).strftime('%Y-%m-%d')) - pd.Timedelta('8 day')) #llega a donde empieza el horario\n",
    "\n",
    "starts_w = [date - pd.Timedelta(start) for start in starts]\n",
    "starts_m_d = [start_w - pd.Timedelta(warming_window) for start_w in starts_w]\n",
    "end_d = date + pd.Timedelta(window_end)\n",
    "\n",
    "# df execution\n",
    "df_executionprops_d = pd.DataFrame([starts,\n",
    "                                  starts_names,\n",
    "                                  ['/home/socastillogi/jupyter/SH_op/src/calibracion_validacion/calval_enbloque/outputs/bin_sto/SMsim_d_202008-2021.StOhdr'],\n",
    "                                    #iniciar desde las CI del bin de mediano plazo\n",
    "#                                   '%s-p01-ci1-90d.StOhdr'%(SHop.get_ruta(ConfigList,'ruta_proj')+SHop.get_ruta(ConfigList,'ruta_sto_op'))], #first run: 0.0,\n",
    "                                  ['ci1'],\n",
    "                                  [[1.0 , 5.9 , 5.7 , 0.0 , 1.0 , 1.0 , 10.8 , 1.0 , 1.0 , 1.0, 1.0 ]],\n",
    "                                  ['-p01'],\n",
    "                                  [0]], #wup_stets:pasos de sim, depende de dt #int((end - starts_w[0]).total_seconds()/wmf.models.dt)\n",
    "                                 columns = [1],\n",
    "                                 index = ['starts','start_names','CIs','CI_names','pars','pars_names','wup_steps']).T\n",
    "\n",
    "#rainfall\n",
    "pseries,ruta_out_rain_d = SHop.get_rainfall2sim(ConfigList,cu,path_ncbasin,[starts_m_d[0]],end_d, #se corre el bin mas largo.\n",
    "                                             Dt= float(wmf.models.dt),include_escenarios=None,\n",
    "                                             evs_hist= False,\n",
    "                                             check_file=True,stepback_start = '%ss'%int(wmf.models.dt *1),\n",
    "                                             complete_naninaccum=True,verbose=False)\n",
    "\n",
    "print (ruta_out_rain_d)\n",
    "\n",
    "#lectura de creds\n",
    "server,user,passwd,dbname,user2var,host2var = SHop.get_credentials(SHop.get_ruta(ConfigList,'ruta_proj')+SHop.get_ruta(ConfigList,'ruta_credenciales'))\n",
    "\n",
    "#consulta x,y estaciones de humedad.\n",
    "df_xy_est = hidrologia.bd.sql_query('select codigo,longitude,latitude from estaciones where red in (\"humedad\",\"humedad_stevens\",\"humedad_laderas_5te_rasp\",\"humedad_stevens_laderas_rasp\") and estado in (\"A\",\"P\")',\n",
    "                                 server,user,passwd,dbname)\n",
    "#coordenadas to numeric\n",
    "df_xy_est = df_xy_est.apply(pd.to_numeric, errors='ignore')\n",
    "df_xy_estH = df_xy_est.set_index('codigo')\n",
    "\n",
    "# set of executions\n",
    "ListEjecs_d = SHop.get_executionlists_fromdf(ConfigList,ruta_out_rain_d,cu,starts_m_d,end_d,df_executionprops_d,\n",
    "                                             df_xy_estH,\n",
    "                                             warming_steps=warming_steps, dateformat_starts = dateformat_starts,\n",
    "                                             fecha_binsto = starts_m_d[0])\n",
    "\n",
    "#execution\n",
    "print ('Start simulations: %s'%dt.datetime.now())\n",
    "print ('start: %s - end: %s'%(starts_m_d[0], end_d))\n",
    "res = SHop.get_qsim(ListEjecs_d,set_CI=True,save_hist=save_hist,verbose = True)\n",
    "print ('End simulations: %s'%dt.datetime.now())"
   ]
  },
  {
   "cell_type": "code",
   "execution_count": null,
   "metadata": {},
   "outputs": [],
   "source": []
  },
  {
   "cell_type": "code",
   "execution_count": 5,
   "metadata": {
    "ExecuteTime": {
     "end_time": "2021-03-09T19:10:37.151893Z",
     "start_time": "2021-03-09T19:10:36.694449Z"
    }
   },
   "outputs": [
    {
     "data": {
      "text/plain": [
       "<AxesSubplot:xlabel=' Fecha '>"
      ]
     },
     "execution_count": 5,
     "metadata": {},
     "output_type": "execute_result"
    },
    {
     "data": {
      "image/png": "[encoded data removed]",
      "text/plain": [
       "<Figure size 432x288 with 1 Axes>"
      ]
     },
     "metadata": {
      "needs_background": "light"
     },
     "output_type": "display_data"
    }
   ],
   "source": [
    "df_st = wmf.read_rain_struct(ruta_out_rain_d.split('.')[0]+'.hdr')\n",
    "df_st[' Lluvia'].plot()"
   ]
  },
  {
   "cell_type": "code",
   "execution_count": 6,
   "metadata": {
    "ExecuteTime": {
     "end_time": "2021-03-09T01:11:10.183768Z",
     "start_time": "2021-03-09T01:11:10.178319Z"
    }
   },
   "outputs": [
    {
     "name": "stdout",
     "output_type": "stream",
     "text": [
      "execution takes: 1800.0 seg.\n"
     ]
    }
   ],
   "source": [
    "print('execution takes: %s seg.'%(30*60.))"
   ]
  },
  {
   "cell_type": "markdown",
   "metadata": {},
   "source": [
    "---"
   ]
  },
  {
   "cell_type": "markdown",
   "metadata": {
    "heading_collapsed": true
   },
   "source": [
    "#### Revisar\n",
    "- revisar los intermedios y que se actualicen correctamente los archivo historicos."
   ]
  },
  {
   "cell_type": "code",
   "execution_count": 48,
   "metadata": {
    "ExecuteTime": {
     "end_time": "2021-03-09T00:15:22.818399Z",
     "start_time": "2021-03-09T00:15:22.813116Z"
    },
    "hidden": true
   },
   "outputs": [
    {
     "data": {
      "text/plain": [
       "'/home/socastillogi/jupyter/SH_op/SHop_E260_90m_1d/SHop/project_files/results/results_op/rain_op/201808190000_201811180000-SHop_E260_90m_1d.bin'"
      ]
     },
     "execution_count": 48,
     "metadata": {},
     "output_type": "execute_result"
    }
   ],
   "source": [
    "ruta_out_rain_d"
   ]
  },
  {
   "cell_type": "code",
   "execution_count": 49,
   "metadata": {
    "ExecuteTime": {
     "end_time": "2021-03-09T00:15:24.366425Z",
     "start_time": "2021-03-09T00:15:24.353753Z"
    },
    "hidden": true
   },
   "outputs": [],
   "source": [
    "p = wmf.read_rain_struct(ruta_out_rain_d.split('.')[0]+'.hdr')"
   ]
  },
  {
   "cell_type": "code",
   "execution_count": 50,
   "metadata": {
    "ExecuteTime": {
     "end_time": "2021-03-09T00:15:25.819541Z",
     "start_time": "2021-03-09T00:15:25.341790Z"
    },
    "hidden": true
   },
   "outputs": [
    {
     "data": {
      "text/plain": [
       "<AxesSubplot:xlabel=' Fecha '>"
      ]
     },
     "execution_count": 50,
     "metadata": {},
     "output_type": "execute_result"
    },
    {
     "data": {
      "image/png": "[encoded data removed]",
      "text/plain": [
       "<Figure size 432x288 with 1 Axes>"
      ]
     },
     "metadata": {
      "needs_background": "light"
     },
     "output_type": "display_data"
    }
   ],
   "source": [
    "p[' Lluvia'].plot()"
   ]
  },
  {
   "cell_type": "code",
   "execution_count": null,
   "metadata": {
    "hidden": true
   },
   "outputs": [],
   "source": []
  },
  {
   "cell_type": "code",
   "execution_count": null,
   "metadata": {
    "hidden": true
   },
   "outputs": [],
   "source": []
  },
  {
   "cell_type": "code",
   "execution_count": 5,
   "metadata": {
    "ExecuteTime": {
     "end_time": "2020-09-29T13:12:05.189157Z",
     "start_time": "2020-09-29T13:12:05.175353Z"
    },
    "hidden": true
   },
   "outputs": [],
   "source": [
    "#REVISAR CAUDAL.\n",
    "#tramos, para sacar los datos del modelo.\n",
    "df_tramos = pd.read_csv(SHop.get_ruta(ConfigList,'ruta_proj')+SHop.get_ruta(ConfigList,'ruta_nc_tramos'),index_col=0)\n",
    "ests = df_tramos.index\n",
    "#curvas que escogí.\n",
    "df_est_features = pd.read_csv(SHop.get_ruta(ConfigList,'ruta_proj')+SHop.get_ruta(ConfigList,'ruta_curvascalob3'),index_col=0)\n",
    "ests = df_est_features.index\n",
    "tramos_ids = np.concatenate(df_tramos.loc[ests].values)\n",
    "df_est_features['tramo'] = list(map(str,tramos_ids))"
   ]
  },
  {
   "cell_type": "code",
   "execution_count": 7,
   "metadata": {
    "ExecuteTime": {
     "end_time": "2020-09-29T12:41:33.423277Z",
     "start_time": "2020-09-29T12:41:33.408146Z"
    },
    "hidden": true,
    "scrolled": true
   },
   "outputs": [
    {
     "data": {
      "text/plain": [
       "[[<wmf.wmf.SimuBasin at 0x7ff6771bea60>,\n",
       "  'ci1',\n",
       "  array([[2.8050000e+02, 2.8050000e+02, 2.8050000e+02, ..., 4.1489999e+02,\n",
       "          4.1489999e+02, 4.8591667e+01],\n",
       "         [0.0000000e+00, 0.0000000e+00, 0.0000000e+00, ..., 0.0000000e+00,\n",
       "          0.0000000e+00, 0.0000000e+00],\n",
       "         [1.2891123e+00, 8.4649920e-01, 3.1415772e-01, ..., 4.3120492e-01,\n",
       "          8.7539506e-01, 4.1846158e+02],\n",
       "         [3.1673691e+01, 2.8855221e+01, 2.7446735e+01, ..., 1.8915449e+01,\n",
       "          2.8331781e+01, 1.7210945e+03],\n",
       "         [5.0000004e-03, 5.0000004e-03, 5.0000004e-03, ..., 5.0000004e-03,\n",
       "          5.0000004e-03, 1.6125000e+01]], dtype=float32),\n",
       "  '/home/hidrologia/jupyter/SH_op/SHop_E260_90m_1d/SHop/project_files/results/results_op/rain_op/202007280000_202010270000-SHop_E260_90m_1d.bin',\n",
       "  '-p01',\n",
       "  [1.0, 5.9, 5.7, 0.0, 1.0, 1.0, 10.8, 1.0, 1.0, 1.0, 1.0],\n",
       "  91,\n",
       "  0,\n",
       "  '90d',\n",
       "  '/home/hidrologia/jupyter/SH_op/SHop_E260_90m_1d/SHop/project_files/results/results_op/Sto_op-p01-ci1-90d',\n",
       "  '/home/hidrologia/jupyter/SH_op/SHop_E260_90m_1d/SHop/project_files/results/results_op/Qsim_op-p01-ci1-90d.csv',\n",
       "  '/home/hidrologia/jupyter/SH_op/SHop_E260_90m_1d/SHop/project_files/results/results_h/Qsim_hist-p01-ci1-90d.csv',\n",
       "  '/home/hidrologia/jupyter/SH_op/SHop_E260_90m_1d/SHop/project_files/results/results_h/MSto_hist-p01-ci1-90d.csv',\n",
       "  0]]"
      ]
     },
     "execution_count": 7,
     "metadata": {},
     "output_type": "execute_result"
    }
   ],
   "source": [
    "ListEjecs_d"
   ]
  },
  {
   "cell_type": "markdown",
   "metadata": {
    "hidden": true
   },
   "source": [
    "- MS_sim H"
   ]
  },
  {
   "cell_type": "code",
   "execution_count": 12,
   "metadata": {
    "ExecuteTime": {
     "end_time": "2020-09-29T13:12:09.017440Z",
     "start_time": "2020-09-29T13:12:08.971946Z"
    },
    "hidden": true
   },
   "outputs": [
    {
     "data": {
      "text/plain": [
       "<AxesSubplot:xlabel='fecha'>"
      ]
     },
     "execution_count": 12,
     "metadata": {},
     "output_type": "execute_result"
    },
    {
     "data": {
      "image/png": "[encoded data removed]",
      "text/plain": [
       "<Figure size 432x288 with 1 Axes>"
      ]
     },
     "metadata": {
      "needs_background": "light"
     },
     "output_type": "display_data"
    }
   ],
   "source": [
    "path_ms_sim= '%s-p01-ci1-90d.csv'%(SHop.get_ruta(ConfigList,'ruta_proj')+SHop.get_ruta(ConfigList,'ruta_MS_hist'))\n",
    "\n",
    "dflol = pd.read_csv(path_ms_sim,index_col=0,parse_dates=True)\n",
    "\n",
    "dflol['2020-06':].plot()"
   ]
  },
  {
   "cell_type": "markdown",
   "metadata": {
    "ExecuteTime": {
     "end_time": "2020-09-29T12:42:26.828416Z",
     "start_time": "2020-09-29T12:42:26.615556Z"
    },
    "hidden": true
   },
   "source": [
    "- Qsim H"
   ]
  },
  {
   "cell_type": "code",
   "execution_count": 13,
   "metadata": {
    "hidden": true
   },
   "outputs": [],
   "source": [
    "path_ms_sim= '%s-p01-ci1-90d.csv'%(SHop.get_ruta(ConfigList,'ruta_proj')+SHop.get_ruta(ConfigList,'ruta_qsim_hist'))\n",
    "dflol = pd.read_csv(path_ms_sim,index_col=0,parse_dates=True)"
   ]
  },
  {
   "cell_type": "code",
   "execution_count": 14,
   "metadata": {
    "hidden": true
   },
   "outputs": [
    {
     "data": {
      "text/plain": [
       "<AxesSubplot:>"
      ]
     },
     "execution_count": 14,
     "metadata": {},
     "output_type": "execute_result"
    },
    {
     "data": {
      "image/png": "[encoded data removed]",
      "text/plain": [
       "<Figure size 432x288 with 1 Axes>"
      ]
     },
     "metadata": {
      "needs_background": "light"
     },
     "output_type": "display_data"
    }
   ],
   "source": [
    "est = 99\n",
    "dflol['2020-06':]['%s'%(df_est_features.tramo.loc[est])].plot()"
   ]
  },
  {
   "cell_type": "markdown",
   "metadata": {
    "hidden": true
   },
   "source": [
    "- Qsim OP"
   ]
  },
  {
   "cell_type": "code",
   "execution_count": 15,
   "metadata": {
    "hidden": true
   },
   "outputs": [],
   "source": [
    "path_Q_sim= '%s-p01-ci1-90d.csv'%(SHop.get_ruta(ConfigList,'ruta_proj')+SHop.get_ruta(ConfigList,'ruta_qsim_op'))\n",
    "dflol = pd.read_csv(path_Q_sim,index_col=0,parse_dates=True)"
   ]
  },
  {
   "cell_type": "code",
   "execution_count": 16,
   "metadata": {
    "hidden": true
   },
   "outputs": [
    {
     "data": {
      "text/plain": [
       "<AxesSubplot:>"
      ]
     },
     "execution_count": 16,
     "metadata": {},
     "output_type": "execute_result"
    },
    {
     "data": {
      "image/png": "[encoded data removed]",
      "text/plain": [
       "<Figure size 432x288 with 1 Axes>"
      ]
     },
     "metadata": {
      "needs_background": "light"
     },
     "output_type": "display_data"
    }
   ],
   "source": [
    "est = 99\n",
    "dflol['2020-06':]['%s'%(df_est_features.tramo.loc[est])].plot()"
   ]
  },
  {
   "cell_type": "code",
   "execution_count": 17,
   "metadata": {
    "hidden": true
   },
   "outputs": [
    {
     "data": {
      "text/plain": [
       "DatetimeIndex(['2020-07-29', '2020-07-30', '2020-07-31', '2020-08-01',\n",
       "               '2020-08-02', '2020-08-03', '2020-08-04', '2020-08-05',\n",
       "               '2020-08-06', '2020-08-07', '2020-08-08', '2020-08-09',\n",
       "               '2020-08-10', '2020-08-11', '2020-08-12', '2020-08-13',\n",
       "               '2020-08-14', '2020-08-15', '2020-08-16', '2020-08-17',\n",
       "               '2020-08-18', '2020-08-19', '2020-08-20', '2020-08-21',\n",
       "               '2020-08-22', '2020-08-23', '2020-08-24', '2020-08-25',\n",
       "               '2020-08-26', '2020-08-27', '2020-08-28', '2020-08-29',\n",
       "               '2020-08-30', '2020-08-31', '2020-09-01', '2020-09-02',\n",
       "               '2020-09-03', '2020-09-04', '2020-09-05', '2020-09-06',\n",
       "               '2020-09-07', '2020-09-08', '2020-09-09', '2020-09-10',\n",
       "               '2020-09-11', '2020-09-12', '2020-09-13', '2020-09-14',\n",
       "               '2020-09-15', '2020-09-16', '2020-09-17', '2020-09-18',\n",
       "               '2020-09-19', '2020-09-20', '2020-09-21', '2020-09-22',\n",
       "               '2020-09-23', '2020-09-24', '2020-09-25', '2020-09-26',\n",
       "               '2020-09-27', '2020-09-28', '2020-09-29', '2020-09-30',\n",
       "               '2020-10-01', '2020-10-02', '2020-10-03', '2020-10-04',\n",
       "               '2020-10-05', '2020-10-06', '2020-10-07', '2020-10-08',\n",
       "               '2020-10-09', '2020-10-10', '2020-10-11', '2020-10-12',\n",
       "               '2020-10-13', '2020-10-14', '2020-10-15', '2020-10-16',\n",
       "               '2020-10-17', '2020-10-18', '2020-10-19', '2020-10-20',\n",
       "               '2020-10-21', '2020-10-22', '2020-10-23', '2020-10-24',\n",
       "               '2020-10-25', '2020-10-26', '2020-10-27'],\n",
       "              dtype='datetime64[ns]', freq=None)"
      ]
     },
     "execution_count": 17,
     "metadata": {},
     "output_type": "execute_result"
    }
   ],
   "source": [
    "dflol.index"
   ]
  },
  {
   "cell_type": "markdown",
   "metadata": {
    "heading_collapsed": true
   },
   "source": [
    "#### Revisar binhumedad."
   ]
  },
  {
   "cell_type": "code",
   "execution_count": 14,
   "metadata": {
    "ExecuteTime": {
     "end_time": "2020-12-10T03:26:57.471787Z",
     "start_time": "2020-12-10T03:26:57.463346Z"
    },
    "hidden": true
   },
   "outputs": [],
   "source": [
    "f=open(ListEjecs_d[0][-5]+'.StOhdr')\n",
    "filelines=f.readlines()\n",
    "f.close()\n",
    "IDs=np.array([int(i.split(',')[0]) for i in filelines[5:]])"
   ]
  },
  {
   "cell_type": "code",
   "execution_count": 15,
   "metadata": {
    "ExecuteTime": {
     "end_time": "2020-12-10T03:27:22.825945Z",
     "start_time": "2020-12-10T03:27:22.820685Z"
    },
    "hidden": true
   },
   "outputs": [],
   "source": [
    "v,r = wmf.models.read_float_basin_ncol(ListEjecs_d[0][-5]+'.StObin',100, cu.ncells, 5)"
   ]
  },
  {
   "cell_type": "code",
   "execution_count": 16,
   "metadata": {
    "ExecuteTime": {
     "end_time": "2020-12-10T03:28:20.032237Z",
     "start_time": "2020-12-10T03:28:19.329945Z"
    },
    "hidden": true
   },
   "outputs": [
    {
     "data": {
      "image/png": "[encoded data removed]",
      "text/plain": [
       "<Figure size 720x576 with 2 Axes>"
      ]
     },
     "metadata": {
      "needs_background": "light"
     },
     "output_type": "display_data"
    },
    {
     "data": {
      "text/plain": [
       "([-75.71068572998047, -75.2148112343857, 5.983959197998047, 6.550444326363504],\n",
       " <AxesSubplot:>)"
      ]
     },
     "execution_count": 16,
     "metadata": {},
     "output_type": "execute_result"
    }
   ],
   "source": [
    "cu.Plot_basinClean(v[0]/wmf.models.max_capilar,show_cbar=True)"
   ]
  },
  {
   "cell_type": "code",
   "execution_count": 17,
   "metadata": {
    "hidden": true
   },
   "outputs": [
    {
     "data": {
      "image/png": "[encoded data removed]",
      "text/plain": [
       "<Figure size 720x576 with 2 Axes>"
      ]
     },
     "metadata": {
      "needs_background": "light"
     },
     "output_type": "display_data"
    },
    {
     "data": {
      "text/plain": [
       "([-75.71068572998047, -75.2148112343857, 5.983959197998047, 6.550444326363504],\n",
       " <AxesSubplot:>)"
      ]
     },
     "execution_count": 17,
     "metadata": {},
     "output_type": "execute_result"
    }
   ],
   "source": [
    "cu.Plot_basinClean(v[2]/wmf.models.max_capilar,show_cbar=True)"
   ]
  },
  {
   "cell_type": "markdown",
   "metadata": {
    "hidden": true
   },
   "source": [
    "-----"
   ]
  },
  {
   "cell_type": "markdown",
   "metadata": {
    "hidden": true
   },
   "source": [
    "-----"
   ]
  },
  {
   "cell_type": "markdown",
   "metadata": {
    "hidden": true
   },
   "source": [
    "-----"
   ]
  },
  {
   "cell_type": "markdown",
   "metadata": {
    "hidden": true
   },
   "source": [
    "3. reciclar unas min. 4 veces la simulación: cambiar la ci en el dataframe.\n",
    "4. ahí sí cronear."
   ]
  }
 ],
 "metadata": {
  "kernelspec": {
   "display_name": "socastillogi-Python3",
   "language": "python",
   "name": "socastillogi-python3"
  },
  "language_info": {
   "codemirror_mode": {
    "name": "ipython",
    "version": 3
   },
   "file_extension": ".py",
   "mimetype": "text/x-python",
   "name": "python",
   "nbconvert_exporter": "python",
   "pygments_lexer": "ipython3",
   "version": "3.8.5"
  },
  "toc": {
   "base_numbering": 1,
   "nav_menu": {},
   "number_sections": true,
   "sideBar": true,
   "skip_h1_title": false,
   "title_cell": "Table of Contents",
   "title_sidebar": "Contents",
   "toc_cell": false,
   "toc_position": {},
   "toc_section_display": true,
   "toc_window_display": false
  },
  "varInspector": {
   "cols": {
    "lenName": 16,
    "lenType": 16,
    "lenVar": 40
   },
   "kernels_config": {
    "python": {
     "delete_cmd_postfix": "",
     "delete_cmd_prefix": "del ",
     "library": "var_list.py",
     "varRefreshCmd": "print(var_dic_list())"
    },
    "r": {
     "delete_cmd_postfix": ") ",
     "delete_cmd_prefix": "rm(",
     "library": "var_list.r",
     "varRefreshCmd": "cat(var_dic_list()) "
    }
   },
   "types_to_exclude": [
    "module",
    "function",
    "builtin_function_or_method",
    "instance",
    "_Feature"
   ],
   "window_display": false
  }
 },
 "nbformat": 4,
 "nbformat_minor": 2
}
