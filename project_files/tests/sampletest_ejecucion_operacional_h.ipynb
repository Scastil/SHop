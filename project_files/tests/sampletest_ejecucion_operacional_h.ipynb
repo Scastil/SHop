{
 "cells": [
  {
   "cell_type": "code",
   "execution_count": 1,
   "metadata": {
    "ExecuteTime": {
     "end_time": "2021-03-09T01:41:12.727751Z",
     "start_time": "2021-03-09T01:41:11.912982Z"
    },
    "code_folding": [
     0
    ]
   },
   "outputs": [
    {
     "name": "stdout",
     "output_type": "stream",
     "text": [
      "No se logra importar basemap, por lo tanto no funciona Plot_basin\n"
     ]
    },
    {
     "name": "stderr",
     "output_type": "stream",
     "text": [
      "/home/socastillogi/py_env/lib/python3.8/site-packages/SHop-0.0.2-py3.8.egg/SHop/SHop_src.py:44: MatplotlibDeprecationWarning: \n",
      "The createFontList function was deprecated in Matplotlib 3.2 and will be removed two minor releases later. Use FontManager.addfont instead.\n"
     ]
    }
   ],
   "source": [
    "# PAQUETES PARA CORRER OP.\n",
    "import pandas as pd\n",
    "import numpy as np\n",
    "import datetime as dt\n",
    "import json\n",
    "import wmf.wmf as wmf\n",
    "import hydroeval\n",
    "import glob\n",
    "import MySQLdb\n",
    "#modulo pa correr modelo\n",
    "import SHop\n",
    "import hidrologia\n",
    "from sklearn.linear_model import LinearRegression \n",
    "import math\n",
    "\n",
    "#spatial\n",
    "import cartopy.crs as crs\n",
    "import geopandas as gpd\n",
    "import pyproj\n",
    "from pyproj import transform\n",
    "from cartopy.feature import ShapelyFeature\n",
    "import cartopy.crs as ccrs\n",
    "from cartopy.io.shapereader import Reader\n",
    "from cartopy.mpl.ticker import LongitudeFormatter, LatitudeFormatter\n",
    "from cartopy.mpl.gridliner import LONGITUDE_FORMATTER, LATITUDE_FORMATTER\n",
    "\n",
    "import seaborn as sns\n",
    "sns.set(style=\"whitegrid\")\n",
    "sns.set_context('notebook', font_scale=1.13)\n",
    "\n",
    "#FORMATO\n",
    "# fuente\n",
    "import matplotlib\n",
    "matplotlib.use('Agg')\n",
    "import matplotlib.font_manager as fm\n",
    "import matplotlib.dates as mdates\n",
    "import matplotlib.font_manager as font_manager\n",
    "font_dirs = ['/home/socastillogi/jupyter/fuentes/AvenirLTStd-Book']\n",
    "font_files = font_manager.findSystemFonts(fontpaths=font_dirs)\n",
    "font_list = font_manager.createFontList(font_files)\n",
    "font_manager.fontManager.ttflist.extend(font_list)\n",
    "matplotlib.rcParams['font.family'] = 'Avenir LT Std'\n",
    "matplotlib.rcParams['font.size']=11\n",
    "import pylab as pl \n",
    "#axes\n",
    "# pl.rc('axes',labelcolor='#4f4f4f')\n",
    "# pl.rc('axes',linewidth=1.5)\n",
    "# pl.rc('axes',edgecolor='#bdb9b6')\n",
    "pl.rc('text',color= '#4f4f4f')\n",
    "\n",
    "#avoid warnings\n",
    "import warnings\n",
    "warnings.filterwarnings('ignore')\n",
    "\n",
    "# PAQUETES A CORRER EN PLANTILLA.\n",
    "import matplotlib.pylab as pl \n",
    "%matplotlib inline"
   ]
  },
  {
   "cell_type": "markdown",
   "metadata": {},
   "source": [
    "#### Ejecución horaria.\n",
    "\n",
    "Nota: Esta ejecución necesita que la ejecución diaria ya este configurada y generando resultados: CId"
   ]
  },
  {
   "cell_type": "markdown",
   "metadata": {},
   "source": [
    "- Ejecución del modelo y gráficas."
   ]
  },
  {
   "cell_type": "code",
   "execution_count": 2,
   "metadata": {
    "ExecuteTime": {
     "end_time": "2021-03-09T01:41:12.886782Z",
     "start_time": "2021-03-09T01:41:12.881781Z"
    }
   },
   "outputs": [],
   "source": [
    "date_ev = pd.to_datetime('2018-11-26 06:00') #dt.datetime.now().strftime('%Y-%m-%d %H:%M')"
   ]
  },
  {
   "cell_type": "code",
   "execution_count": 30,
   "metadata": {
    "ExecuteTime": {
     "end_time": "2021-03-08T22:17:42.117117Z",
     "start_time": "2021-03-08T22:17:22.540771Z"
    },
    "code_folding": [],
    "collapsed": true
   },
   "outputs": [
    {
     "name": "stdout",
     "output_type": "stream",
     "text": [
      "107\n",
      "118\n",
      "188\n",
      "237\n",
      "235\n",
      "1004\n",
      "296\n",
      "396\n",
      "422\n",
      "424\n",
      "436\n",
      "455\n"
     ]
    }
   ],
   "source": [
    "#crear archvios actualizables de HSobs.\n",
    "# for esth in df_bd_h.index[:]:\n",
    "#     print (esth)\n",
    "#     soilm_df= SHop.query_humedad(esth,'1T',server,user,passwd,dbname,df_bd_h,start=end-pd.Timedelta('10d'),end=end,\n",
    "#                                 update_or_save_csv=1,path_dfh = path_dfh,calidad=False)"
   ]
  },
  {
   "cell_type": "code",
   "execution_count": 3,
   "metadata": {
    "ExecuteTime": {
     "end_time": "2021-03-09T01:42:34.108830Z",
     "start_time": "2021-03-09T01:41:15.574844Z"
    },
    "code_folding": [
     0
    ],
    "scrolled": true
   },
   "outputs": [
    {
     "name": "stdout",
     "output_type": "stream",
     "text": [
      "2021-03-08 20:41:15.617729\n",
      "#########################\n",
      "Start HOURLY execution: 2021-03-08 20:41:15.741281\n",
      "SERVER_CON: Succesful connection to Sal\n",
      "/home/socastillogi/jupyter/git/SHop/project_files/results/results_op/rain_op/201811180500_201811260700-SHop_E260_90m_1h.bin\n",
      "Start simulations: 2021-03-08 20:41:15.770991\n",
      "start: 2018-11-18 06:00:00 - end: 2018-11-26 07:00:00\n",
      "Warning: model will save states in all time steps this may require a lot of space\n",
      "Config. -p01ci2-/home/socastillogi/jupyter/git/SHop/project_files/results/results_h/Qsim_hist-p01-ci2-1d.csv ejecutado\n",
      "Warning: model will save states in all time steps this may require a lot of space\n",
      "Config. -p01ci3-/home/socastillogi/jupyter/git/SHop/project_files/results/results_h/Qsim_hist-p01-ci3-1d.csv ejecutado\n",
      "End simulations: 2021-03-08 20:41:24.450239\n",
      "SERVER_CON: Succesful connection to Sal\n",
      "Consulta exitosa de Nobs\n",
      "Graphics are generated: Qval\n",
      "Graphics are generated: Qotros\n",
      "Graphics are generated: Nval\n",
      "empty query\n",
      "empty query\n",
      "empty query\n",
      "empty query\n",
      "empty query\n",
      "empty query\n",
      "empty query\n",
      "empty query\n",
      "Graphics are generated: HS\n",
      "Graphics are generated: maps HS.\n"
     ]
    }
   ],
   "source": [
    "############################################################################################  ARGUMENTOS\n",
    "print (dt.datetime.now())\n",
    "\n",
    "#configfile horario\n",
    "ruta_proj = '/home/socastillogi/jupyter/git/SHop/'\n",
    "configfile=ruta_proj+'project_files/inputs/configfile_SHop_E260_90m_1h.md'\n",
    "save_hist = True ###############################################################False for first times\n",
    "dateformat_starts_h = '%Y-%m-%d %H'\n",
    "date_h = pd.to_datetime(date_ev.strftime(dateformat_starts_h))\n",
    "ConfigList= SHop.get_rutesList(configfile)\n",
    "\n",
    "#configfile diario\n",
    "configfile_d=SHop.get_ruta(ConfigList,'ruta_md_d')\n",
    "ConfigList_d= SHop.get_rutesList(configfile_d)\n",
    "\n",
    "# abrir simubasin\n",
    "path_ncbasin = SHop.get_ruta(ConfigList,'ruta_proj')+SHop.get_ruta(ConfigList,'ruta_nc')\n",
    "cu = wmf.SimuBasin(rute=path_ncbasin)\n",
    "#sets para correr modelo.\n",
    "SHop.set_modelsettings(ConfigList)\n",
    "warming_steps =  5*24 # 5d de wupt #pasos de simulacion no seg, dependen del dt.\n",
    "warming_window ='%ss'%int(wmf.models.dt * warming_steps) #siempre en seg\n",
    "dateformat_starts = '%Y-%m-%d %H'\n",
    "dateformat_binrain = '%Y%m%d%H%M'\n",
    "\n",
    "#definicion de ventanas\n",
    "starts  = ['%ss'%(3*24*60*60),'%ss'%(3*24*60*60)] #en seg\n",
    "starts_names = ['1d']*2  #starts y windows deben ser del mismo len, y coincidir en info\n",
    "window_end = '%ss'%(1*60*60) #corre la ventana asignada + una hora hacia adelante para agarrar lo que haya de lluvia hasta el momento\n",
    "\n",
    "#definicion de executionprops\n",
    "df_executionprops_h = pd.DataFrame([starts,\n",
    "                                  starts_names,\n",
    "                                  ['%s-p01-ci1-90d.StOhdr'%(SHop.get_ruta(ConfigList_d,'ruta_proj')+SHop.get_ruta(ConfigList_d,'ruta_sto_op')),\n",
    "                                  'reglas_pant'],\n",
    "                                  ['ci2','ci3'],\n",
    "                                  [[0.8 , 10 , 17.7 , 0.0 , 9.0 , 2.0 , 15 , 0.9 , 1.0 , 1.0, 1.0 ],\n",
    "                                   [0.8 , 10 , 17.7 , 0.0 , 9.0 , 2.0 , 15 , 0.9 , 1.0 , 1.0, 1.0 ]],\n",
    "                                  ['-p01','-p01'],\n",
    "                                  [0,0]], #pasos de sim, depende de dt\n",
    "                                 columns = [1,2],\n",
    "                                 index = ['starts','start_names','CIs','CI_names','pars','pars_names','wup_steps']).T\n",
    "\n",
    "print ('#########################')\n",
    "print ('Start HOURLY execution: %s'%dt.datetime.now())    \n",
    "#ventanas de tiempo en que se correra\n",
    "\n",
    "\n",
    "#dates\n",
    "start_o = pd.to_datetime(pd.to_datetime(date_h).strftime(dateformat_starts_h))#arranca desde 3d antes pa tener ventana de plot.\n",
    "\n",
    "starts_w_h = [start_o - pd.Timedelta(start) for start in starts]\n",
    "starts_m_h = [start_w_h - pd.Timedelta(warming_window) for start_w_h in starts_w_h]\n",
    "end_h = pd.to_datetime(pd.to_datetime(start_o).strftime(dateformat_starts)) + pd.Timedelta(window_end)\n",
    "\n",
    "            \n",
    "#consulta x,y estaciones de humedad.\n",
    "server,user,passwd,dbname = SHop.get_credentials(SHop.get_ruta(ConfigList,'ruta_proj')+SHop.get_ruta(ConfigList,'ruta_credenciales'))\n",
    "df_xy_est = hidrologia.bd.sql_query('select codigo,longitude,latitude from estaciones where red in (\"humedad\",\"humedad_stevens\",\"humedad_laderas_5te_rasp\",\"humedad_stevens_laderas_rasp\") and estado in (\"A\",\"P\")',\n",
    "                                 server,user,passwd,dbname)\n",
    "#coordenadas to numeric\n",
    "df_xy_est = df_xy_est.apply(pd.to_numeric, errors='ignore')\n",
    "df_xy_estH = df_xy_est.set_index('codigo')\n",
    "# df_xy_estH = pd.read_csv('df_xy_estH.csv',index_col=0)\n",
    "\n",
    "\n",
    "# rainfall  : takes 3min\n",
    "pseries,ruta_out_rain_h = SHop.get_rainfall2sim(ConfigList,cu,path_ncbasin,[starts_m_h[0]],end_h, #se corre el bin mas largo.\n",
    "                                             Dt= float(wmf.models.dt),include_escenarios=None,\n",
    "                                             evs_hist= False,\n",
    "                                             check_file=True,stepback_start = '%ss'%int(wmf.models.dt*1),\n",
    "                                             complete_naninaccum=True,verbose=False)\n",
    "\n",
    "print (ruta_out_rain_h)\n",
    "\n",
    "SHop.set_modelsettings(ConfigList)\n",
    "# set of executions\n",
    "ListEjecs_h =  SHop.get_executionlists_fromdf(ConfigList,ruta_out_rain_h,cu,starts_m_h,end_h,df_executionprops_h,\n",
    "                                         df_xy_estH,warming_steps=warming_steps, \n",
    "                                         dateformat_starts = dateformat_starts_h,\n",
    "                                         path_pant4rules = ruta_out_rain_h)#,fecha_binsto = starts_m_h[0])\n",
    "\n",
    "# #execution\n",
    "print ('Start simulations: %s'%dt.datetime.now())\n",
    "print ('start: %s - end: %s'%(starts_m_h[0], end_h))\n",
    "SHop.set_modelsettings(ConfigList)\n",
    "res = SHop.get_qsim(ListEjecs_h[:],set_CI=True,save_hist=save_hist,verbose = True)\n",
    "print ('End simulations: %s'%dt.datetime.now())\n",
    "                         \n",
    "######################################################## GRAFICAS RESULTADOS\n",
    "\n",
    "################################################# ARGS. GRAFICAS\n",
    "\n",
    "start = starts_w_h[0]\n",
    "end= end_h\n",
    "\n",
    "#METADATOS CAUDAL\n",
    "estsn = np.array([169, 124, 106, 179, 94, 93, 99, 359, 346, 140]) \n",
    "#tramos, para sacar los datos del modelo.\n",
    "df_est_metadatos = pd.read_csv(SHop.get_ruta(ConfigList,'ruta_proj')+SHop.get_ruta(ConfigList,'ruta_nc_metadatos'),index_col=0)\n",
    "df_est_metadatos = df_est_metadatos.loc[estsn] #331, 91,342\n",
    "\n",
    "#otros tramos que neider pidio\n",
    "df_otrostramos = pd.read_csv('/home/socastillogi/jupyter/SH_op/SHop_E260_90m_1h/SHop/project_files/inputs/otros_tramos_importantes.csv',header=None)\n",
    "df_otrostramos.columns = ['nombrecauce','tramo']\n",
    "\n",
    "#METADATOS BD NIVEL\n",
    "server,user,passwd,dbname = SHop.get_credentials(SHop.get_ruta(ConfigList,'ruta_proj')+SHop.get_ruta(ConfigList,'ruta_credenciales'))\n",
    "\n",
    "query = \"select codigo,nombreestacion,estado,longitude,latitude,offsetn,action_level,minor_flooding,moderate_flooding,major_flooding from estaciones where codigo in %s;\"%(str(tuple(['%s'%estn for estn in estsn])))\n",
    "df_bd_n = hidrologia.bd.sql_query(query,server,user,passwd,dbname).set_index('codigo')\n",
    "df_bd_n.index = list(map(int,df_bd_n.index)) ; df_bd_n = df_bd_n.loc[estsn];df_bd_n.columns = ['nombreestacion','estado','longitude','latitude','offsetn','n2','n3','n4','n5']\n",
    "df_bd=df_bd_n.loc[:,'longitude':].apply(pd.to_numeric, errors='coerce')\n",
    "df_bd[['nombreestacion','estado']] = df_bd_n[['nombreestacion','estado']]\n",
    "df_bd_n = df_bd.copy()\n",
    "\n",
    "#MEAN RAINFALL IN EACH BASIN\n",
    "path_r = ruta_out_rain_h.split('.')[0]+'.hdr'\n",
    "Dt = '1h'\n",
    "ests = estsn\n",
    "path_masks_csv = SHop.get_ruta(ConfigList,'ruta_proj')+SHop.get_ruta(ConfigList,'ruta_csv_subbasinmask')\n",
    "\n",
    "df_pbasins = SHop.get_pradar_withinnc(path_r,cu,start,end,Dt,ests,path_masks_csv=path_masks_csv)\n",
    "\n",
    "#METADATOS BD HUMEDAD\n",
    "estsh = [107,118,188,237,235,1004,296,396,422,424,436,455] #set order for metadata. \n",
    "query = 'select codigo, nombreestacion,estado,hd,red from estaciones where red in (\"humedad\",\"humedad_stevens\",\"humedad_laderas_5te_rasp\",\"humedad_stevens_laderas_rasp\") and estado in (\"A\",\"P\")'\n",
    "df_bd_h = hidrologia.bd.sql_query(query,server,user,passwd,dbname).set_index('codigo')\n",
    "df_bd_h.index = list(map(int,df_bd_h.index)) ; df_bd_h = df_bd_h.loc[estsh]\n",
    "df_bd_h.columns = ['nombreestacion', 'estado', 'tipo_sensor', 'red']\n",
    "df_bd_h.tipo_sensor = list(map(int,df_bd_h.tipo_sensor.values))\n",
    "estsh = list(df_bd_h.index)\n",
    "\n",
    "#asignaciones\n",
    "codigos_pluvio = np.array([20,288,189,25,43,57,295,43,295,389,373,418])\n",
    "#si en la consulta hay mas filas que pluvio, se descartan las filas que excden el size. puede que haya una estacion nueva y no nos hayan contado.\n",
    "#No se grafica hasta que se tengan todos los metadatos, \n",
    "if df_bd_h.shape[0]>codigos_pluvio.size:\n",
    "    print('Warnign: Possibly there are more stations than pluviometers assigned. %s vs. %s'%(df_bd_h.shape[0],codigos_pluvio.size))\n",
    "    df_bd_h = df_bd_h.loc[df_bd_h.index[:codigos_pluvio.size]]\n",
    "\n",
    "else:\n",
    "    pass\n",
    "\n",
    "\n",
    "df_bd_h[['p_asociado','sensor_h','depths2drop','depths_laderas']] = pd.DataFrame([codigos_pluvio,\n",
    "                                                                       [[1,2,3],[1,3],[2,3],[2],[1,2,3],[1,2,3],[1,2],[1,2,3],[1,2,3],[1,2],[1],[1,2]],\n",
    "                                                          np.array([None,[2],[1],[1,3],None,[3],None,None,None,[3],[2,3],[3]]),\n",
    "                                                          np.array([None,None,None,None,None,None,None,None,None,['1','1.2'],['1.36'],['0.5','1']])],\n",
    "                                                          columns=df_bd_h.index, \n",
    "                                                          index = ['p_asociado','sensor_h','depths2drop','depths_laderas']).T\n",
    "\n",
    "\n",
    "# POINT RAINFALL IN ESTS_H: kernel 3x3\n",
    "estsh = list(df_xy_estH.index)\n",
    "df_pestsH = SHop.get_pradar_withinnc(path_r,cu,start,end,Dt,estsh,df_points = df_xy_estH)\n",
    "\n",
    "\n",
    "\n",
    "######################################### CONSULTA NOBS. estaciones validacion\n",
    "Dt = '%ss'%(int(wmf.models.dt))\n",
    "ruta_nobs = SHop.get_ruta(ConfigList,'ruta_proj')+SHop.get_ruta(ConfigList,'ruta_nobs_op')\n",
    "ruta_qobs = SHop.get_ruta(ConfigList,'ruta_proj')+SHop.get_ruta(ConfigList,'ruta_qobs_op')\n",
    "\n",
    "df_nobs,df_qobs = SHop.consulta_nyqobs(estsn,start,end,server,user,passwd,dbname,Dt,\n",
    "                                  df_est_metadatos,ruta_qobs,ruta_nobs,save_hist=False)\n",
    "\n",
    "########################################## GRAFICAS CAUDAL estaciones validacion\n",
    "colors_q = ['c','darkblue'] ; ylims_q = np.array([10,20,40,40,100,100,300,200,200,200])\n",
    "rutafig = SHop.get_ruta(ConfigList,'ruta_proj')+SHop.get_ruta(ConfigList,'ruta_qsim_png')\n",
    "\n",
    "SHop.plot_Q(estsn,ylims_q,ListEjecs_h,colors_q,df_est_metadatos,df_bd_n,df_qobs,df_pbasins,rutafig = rutafig)\n",
    "\n",
    "########################################## GRAFICAS CAUDAL - otros tramos \n",
    "colors = ['c','darkblue']\n",
    "rutafig = SHop.get_ruta(ConfigList,'ruta_proj')+SHop.get_ruta(ConfigList,'ruta_qsim_png')\n",
    "names_otrostramos = []\n",
    "for name in df_otrostramos.nombrecauce.values: \n",
    "    if len(name.split(' ')) > 2: names_otrostramos.append(''.join(name.split(' ')[-2:])) \n",
    "    else: names_otrostramos.append(name.split(' ')[-1:][0])\n",
    "df_otrostramos['id'] = names_otrostramos\n",
    "\n",
    "SHop.plot_Qotros(df_otrostramos,ListEjecs_h,colors,rutafig=rutafig)\n",
    "\n",
    "########################################## GRAFICAS NIVEL est. validacion\n",
    "rutafig = SHop.get_ruta(ConfigList,'ruta_proj')+SHop.get_ruta(ConfigList,'ruta_nsim_png')\n",
    "colors_n = ['lightgreen','g'] ; ylims_n = ylims_q/10.\n",
    "SHop.plot_N(estsn,ylims_n,ListEjecs_h,colors_n,df_est_metadatos,df_bd_n,df_nobs,df_pbasins,rutafig=rutafig)\n",
    "\n",
    "########################################## GRAFICAS HUMEDAD estaciones\n",
    "rutafig = SHop.get_ruta(ConfigList,'ruta_proj')+SHop.get_ruta(ConfigList,'ruta_hs_sim_png')\n",
    "colors_sim = [(0.7114648212226067, 0.801276432141484, 0.8883044982698962, 1.0),\n",
    "              (0.5490196078431373, 0.49036524413687044, 0.7286735870818916, 1.0)]\n",
    "\n",
    "#NOTA: correr el query_humedad guardando los datos historicos antes de poner operativo este.\n",
    "path_dfh =  SHop.get_ruta(ConfigList,'ruta_proj')+SHop.get_ruta(ConfigList,'ruta_HSobs_op')\n",
    "# for esth in df_bd_h.index[:]:\n",
    "#     print (esth)\n",
    "#     soilm_df= query_humedad(esth,'1T',server,user,passwd,dbname,df_bd_h,start=start,end=end,\n",
    "#                                 update_or_save_csv=1,path_dfh = path_dfh,calidad=False)\n",
    "\n",
    "SHop.plotHS(df_bd_h,start,end,ListEjecs_h,colors_sim,df_est_metadatos,df_pestsH,\n",
    "       server,user,passwd,dbname,path_dfh,Dt,rutafig= rutafig)\n",
    "\n",
    "########################################## GRAFICAS HUMEDAD MAPAS porc_sat y hg_log\n",
    "chosen_L = ListEjecs_h[0]\n",
    "ruta_map_hglog = '%s%s%s'%(SHop.get_ruta(ConfigList,'ruta_proj'),SHop.get_ruta(ConfigList,'ruta_hglog_sim_png'),'hglog.png')\n",
    "ruta_map_porcsat = '%s%s%s'%(SHop.get_ruta(ConfigList,'ruta_proj'),SHop.get_ruta(ConfigList,'ruta_hglog_sim_png'),'porcsat.png')\n",
    "\n",
    "SHop.plot_mapas_HS(chosen_L,ruta_map_hglog, ruta_map_porcsat)"
   ]
  },
  {
   "cell_type": "code",
   "execution_count": null,
   "metadata": {},
   "outputs": [],
   "source": []
  },
  {
   "cell_type": "code",
   "execution_count": null,
   "metadata": {},
   "outputs": [],
   "source": []
  },
  {
   "cell_type": "code",
   "execution_count": null,
   "metadata": {},
   "outputs": [],
   "source": []
  },
  {
   "cell_type": "code",
   "execution_count": 4,
   "metadata": {
    "ExecuteTime": {
     "end_time": "2021-03-09T01:46:16.057891Z",
     "start_time": "2021-03-09T01:46:16.052288Z"
    }
   },
   "outputs": [
    {
     "name": "stdout",
     "output_type": "stream",
     "text": [
      "hourly execution takes: 180.0 seg.\n"
     ]
    }
   ],
   "source": [
    "print('hourly execution takes: %s seg.'%(3*60.))"
   ]
  },
  {
   "cell_type": "markdown",
   "metadata": {},
   "source": [
    "- Nota: Revisar las gráficas operativas para verificar que todo esté funcionando correctamente"
   ]
  },
  {
   "cell_type": "markdown",
   "metadata": {
    "heading_collapsed": true
   },
   "source": [
    "#### lol"
   ]
  },
  {
   "cell_type": "code",
   "execution_count": 4,
   "metadata": {
    "ExecuteTime": {
     "end_time": "2021-03-09T01:22:32.333402Z",
     "start_time": "2021-03-09T01:22:32.189844Z"
    },
    "collapsed": true,
    "hidden": true
   },
   "outputs": [
    {
     "data": {
      "text/plain": [
       "<AxesSubplot:xlabel=' Fecha '>"
      ]
     },
     "execution_count": 4,
     "metadata": {},
     "output_type": "execute_result"
    },
    {
     "data": {
      "image/png": "[encoded data removed]",
      "text/plain": [
       "<Figure size 432x288 with 1 Axes>"
      ]
     },
     "metadata": {
      "needs_background": "light"
     },
     "output_type": "display_data"
    }
   ],
   "source": [
    "df_st = wmf.read_rain_struct(ruta_out_rain_h.split('.')[0]+'.hdr')\n",
    "df_st[' Lluvia'].plot()"
   ]
  }
 ],
 "metadata": {
  "kernelspec": {
   "display_name": "socastillogi-Python3",
   "language": "python",
   "name": "socastillogi-python3"
  },
  "language_info": {
   "codemirror_mode": {
    "name": "ipython",
    "version": 3
   },
   "file_extension": ".py",
   "mimetype": "text/x-python",
   "name": "python",
   "nbconvert_exporter": "python",
   "pygments_lexer": "ipython3",
   "version": "3.8.5"
  },
  "toc": {
   "base_numbering": 1,
   "nav_menu": {},
   "number_sections": true,
   "sideBar": true,
   "skip_h1_title": false,
   "title_cell": "Table of Contents",
   "title_sidebar": "Contents",
   "toc_cell": false,
   "toc_position": {},
   "toc_section_display": true,
   "toc_window_display": false
  },
  "varInspector": {
   "cols": {
    "lenName": 16,
    "lenType": 16,
    "lenVar": 40
   },
   "kernels_config": {
    "python": {
     "delete_cmd_postfix": "",
     "delete_cmd_prefix": "del ",
     "library": "var_list.py",
     "varRefreshCmd": "print(var_dic_list())"
    },
    "r": {
     "delete_cmd_postfix": ") ",
     "delete_cmd_prefix": "rm(",
     "library": "var_list.r",
     "varRefreshCmd": "cat(var_dic_list()) "
    }
   },
   "types_to_exclude": [
    "module",
    "function",
    "builtin_function_or_method",
    "instance",
    "_Feature"
   ],
   "window_display": false
  }
 },
 "nbformat": 4,
 "nbformat_minor": 2
}
