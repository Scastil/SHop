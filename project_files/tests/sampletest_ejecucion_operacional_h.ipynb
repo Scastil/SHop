{
 "cells": [
  {
   "cell_type": "code",
   "execution_count": 3,
   "metadata": {
    "ExecuteTime": {
     "end_time": "2020-12-10T02:23:27.494136Z",
     "start_time": "2020-12-10T02:23:26.684346Z"
    }
   },
   "outputs": [
    {
     "name": "stderr",
     "output_type": "stream",
     "text": [
      "<ipython-input-3-60b92a9e4a21>:23: MatplotlibDeprecationWarning: \n",
      "The createFontList function was deprecated in Matplotlib 3.2 and will be removed two minor releases later. Use FontManager.addfont instead.\n",
      "  font_list = font_manager.createFontList(font_files)\n"
     ]
    }
   ],
   "source": [
    "# PAQUETES PARA CORRER OP.\n",
    "import pandas as pd\n",
    "import numpy as np\n",
    "import datetime as dt\n",
    "import json\n",
    "import wmf.wmf as wmf\n",
    "import hydroeval\n",
    "import glob\n",
    "import MySQLdb\n",
    "#modulo pa correr modelo\n",
    "import SHop\n",
    "import hidrologia\n",
    "\n",
    "#FORMATO\n",
    "# fuente\n",
    "import matplotlib\n",
    "matplotlib.use('Agg')\n",
    "import matplotlib.font_manager as fm\n",
    "import matplotlib.dates as mdates\n",
    "import matplotlib.font_manager as font_manager\n",
    "font_dirs = ['/home/hidrologia/jupyter/SH_op/fuentes/AvenirLTStd-Book']\n",
    "font_files = font_manager.findSystemFonts(fontpaths=font_dirs)\n",
    "font_list = font_manager.createFontList(font_files)\n",
    "font_manager.fontManager.ttflist.extend(font_list)\n",
    "matplotlib.rcParams['font.family'] = 'Avenir LT Std'\n",
    "matplotlib.rcParams['font.size']=12\n",
    "import pylab as pl \n",
    "#axes\n",
    "pl.rc('axes',labelcolor='#4f4f4f')\n",
    "pl.rc('axes',linewidth=1.5)\n",
    "pl.rc('axes',edgecolor='#bdb9b6')\n",
    "pl.rc('text',color= '#4f4f4f')\n",
    "# pl.rc('xtick',color='#4f4f4f')\n",
    "# pl.rc('ytick',color='#4f4f4f')\n",
    "# pl.locator_params(axis='y', nbins=5)\n",
    "# ax.spines['right'].set_visible(False)\n",
    "# ax.spines['top'].set_visible(False)"
   ]
  },
  {
   "cell_type": "code",
   "execution_count": 4,
   "metadata": {
    "ExecuteTime": {
     "end_time": "2020-12-10T02:23:26.680298Z",
     "start_time": "2020-12-10T02:23:26.364608Z"
    }
   },
   "outputs": [],
   "source": [
    "# PAQUETES A CORRER EN PLANTILLA.\n",
    "import matplotlib.pylab as pl \n",
    "%matplotlib inline"
   ]
  },
  {
   "cell_type": "code",
   "execution_count": null,
   "metadata": {},
   "outputs": [],
   "source": []
  },
  {
   "cell_type": "markdown",
   "metadata": {},
   "source": [
    "### Ejecución horaria.\n",
    "\n",
    "Nota: Esta ejecución necesita que la ejecución diaria ya este configurada y generando resultados: CId"
   ]
  },
  {
   "cell_type": "markdown",
   "metadata": {},
   "source": [
    "- Corre y grafica Qh"
   ]
  },
  {
   "cell_type": "code",
   "execution_count": 10,
   "metadata": {},
   "outputs": [
    {
     "name": "stdout",
     "output_type": "stream",
     "text": [
      "2021-02-01 12:59:00.375976\n",
      "#########################\n",
      "Start HOURLY execution: 2021-02-01 12:59:00.463286\n",
      "/home/hidrologia/jupyter/SH_op/SHop_E260_90m_1h/SHop/project_files/results/results_op/rain_op/202011202300_202011282200-SHop_E260_90m_1h.bin\n",
      "Start simulations: 2021-02-01 12:59:00.482252\n",
      "start: 2020-11-21 00:00:00 - end: 2020-11-28 22:00:00\n",
      "Warning: model will save states in all time steps this may require a lot of space\n",
      "Config. -p01ci2-1d ejecutado\n",
      "Warning: model will save states in all time steps this may require a lot of space\n",
      "Config. -p01ci3-1d ejecutado\n",
      "End simulations: 2021-02-01 12:59:05.016617\n"
     ]
    }
   ],
   "source": [
    "print (dt.datetime.now())\n",
    "\n",
    "############################################################################################  ARGUMENTOS\n",
    "#configfile horario\n",
    "ruta_proj = '/home/hidrologia/jupyter/SH_op/SHop_E260_90m_1h/SHop/project_files/'\n",
    "configfile=ruta_proj+'inputs/configfile_SHop_E260_90m_1h.md'\n",
    "save_hist = True ###############################################################False for first times\n",
    "date = '2020-11-28 22:13'#dt.datetime.now().strftime('%Y-%m-%d %H:%M')\n",
    "ConfigList= SHop.get_rutesList(configfile)\n",
    "\n",
    "#configfile diario\n",
    "configfile_d=SHop.get_ruta(ConfigList,'ruta_md_d')\n",
    "ConfigList_d= SHop.get_rutesList(configfile_d)\n",
    "\n",
    "# abrir simubasin\n",
    "path_ncbasin = SHop.get_ruta(ConfigList,'ruta_proj')+SHop.get_ruta(ConfigList,'ruta_nc')\n",
    "cu = wmf.SimuBasin(rute=path_ncbasin)\n",
    "#sets para correr modelo.\n",
    "SHop.set_modelsettings(ConfigList)\n",
    "warming_steps =  5*24#pasos de simulacion no seg, dependen del dt.\n",
    "warming_window ='%ss'%int(wmf.models.dt * warming_steps) #siempre en seg\n",
    "dateformat_starts = '%Y-%m-%d %H'\n",
    "dateformat_binrain = '%Y%m%d%H%M'\n",
    "\n",
    "#definicion de ventanas\n",
    "starts  = ['%ss'%(0),'%ss'%(0)]\n",
    "starts_names = ['1d','1d'] #starts y windows deben ser del mismo len.\n",
    "window_end = '%ss'%(0*24*60*60) #hora actual\n",
    "\n",
    "#definicion de executionprops\n",
    "df_executionprops_h = pd.DataFrame([starts,\n",
    "                                  starts_names,\n",
    "                                  ['%s-p01-ci1-90d.StOhdr'%(SHop.get_ruta(ConfigList_d,'ruta_proj')+SHop.get_ruta(ConfigList_d,'ruta_sto_op')),\n",
    "                                  'reglas_pant'],\n",
    "                                  ['ci2','ci3'],\n",
    "                                  #[1.0 , 5.9 , 5.7 , 0.0 , 1.0 , 1.0 , 10.8 , 1.0 , 1.0 , 1.0 ],\n",
    "                                  [[0.8 , 10 , 17.7 , 0.0 , 9.0 , 2.0 , 15 , 0.9 , 1.0 , 1.0, 1.0 ],\n",
    "                                   [0.8 , 10 , 17.7 , 0.0 , 9.0 , 2.0 , 15 , 0.9 , 1.0 , 1.0, 1.0 ]],\n",
    "#                                    [0.8,  8.5, 13,    0.0,  9.0,  2.0,   4,     1,    1,    1,  1]\n",
    "                                  ['-p01','-p01'],\n",
    "                                  [0,0]], #pasos de sim, depende de dt\n",
    "                                 columns = [1,2],\n",
    "                                 index = ['starts','start_names','CIs','CI_names','pars','pars_names','wup_steps']).T\n",
    "\n",
    "print ('#########################')\n",
    "print ('Start HOURLY execution: %s'%dt.datetime.now())    \n",
    "#ventanas de tiempo en que se correra\n",
    "\n",
    "\n",
    "#dates\n",
    "start_o = pd.to_datetime(pd.to_datetime(date).strftime('%Y-%m-%d')) - pd.Timedelta('2d')#arranca desde las 00 del dia anterior para tener 1d de calentamiento.\n",
    "\n",
    "starts_w_h = [start_o - pd.Timedelta(start) for start in starts]\n",
    "starts_m_h = [start_w_h - pd.Timedelta(warming_window) for start_w_h in starts_w_h]\n",
    "end_h = pd.to_datetime(pd.to_datetime(date).strftime(dateformat_starts)) + pd.Timedelta(window_end)\n",
    "\n",
    "\n",
    "# rainfall  : takes 3min\n",
    "pseries,ruta_out_rain_h = SHop.get_rainfall2sim(ConfigList,cu,path_ncbasin,[starts_m_h[0]],end_h, #se corre el bin mas largo.\n",
    "                                             Dt= float(wmf.models.dt),include_escenarios=None,\n",
    "                                             evs_hist= False,\n",
    "                                             check_file=True,stepback_start = '%ss'%int(wmf.models.dt*1),\n",
    "                                             complete_naninaccum=True,verbose=False)\n",
    "\n",
    "print (ruta_out_rain_h)\n",
    "\n",
    "SHop.set_modelsettings(ConfigList)\n",
    "# set of executions\n",
    "ListEjecs_h =  SHop.get_executionlists_fromdf(ConfigList,ruta_out_rain_h,cu,starts_m_h,end_h,df_executionprops_h,\n",
    "                                         warming_steps=warming_steps, dateformat_starts = dateformat_starts,\n",
    "                                         path_pant4rules = ruta_out_rain_h)\n",
    "\n",
    "# #execution\n",
    "print ('Start simulations: %s'%dt.datetime.now())\n",
    "print ('start: %s - end: %s'%(starts_m_h[0], end_h))\n",
    "SHop.set_modelsettings(ConfigList)\n",
    "res = SHop.get_qsim(ListEjecs_h[:],set_CI=True,save_hist=save_hist,verbose = True)\n",
    "print ('End simulations: %s'%dt.datetime.now())"
   ]
  },
  {
   "cell_type": "code",
   "execution_count": 8,
   "metadata": {},
   "outputs": [
    {
     "name": "stdout",
     "output_type": "stream",
     "text": [
      "hourly execution takes: 120.0 seg.\n"
     ]
    }
   ],
   "source": [
    "print('hourly execution takes: %s seg.'%(2.5*60.))"
   ]
  },
  {
   "cell_type": "code",
   "execution_count": null,
   "metadata": {},
   "outputs": [],
   "source": []
  },
  {
   "cell_type": "code",
   "execution_count": 11,
   "metadata": {
    "ExecuteTime": {
     "end_time": "2020-12-10T02:24:40.554480Z",
     "start_time": "2020-12-10T02:24:31.677756Z"
    }
   },
   "outputs": [
    {
     "name": "stdout",
     "output_type": "stream",
     "text": [
      "SERVER_CON: Succesful connection to Sal\n",
      "Graphics are generated.\n"
     ]
    }
   ],
   "source": [
    "#REVISAR CAUDAL.\n",
    "#tramos, para sacar los datos del modelo.\n",
    "df_tramos = pd.read_csv(SHop.get_ruta(ConfigList,'ruta_proj')+SHop.get_ruta(ConfigList,'ruta_nc_tramos'),index_col=0)\n",
    "ests = df_tramos.index\n",
    "#curvas que escogí.\n",
    "df_est_features = pd.read_csv(SHop.get_ruta(ConfigList,'ruta_proj')+SHop.get_ruta(ConfigList,'ruta_curvascalob3'),index_col=0)\n",
    "ests = df_est_features.index\n",
    "tramos_ids = np.concatenate(df_tramos.loc[ests].values)\n",
    "df_est_features['tramo'] = list(map(str,tramos_ids))\n",
    "\n",
    "#df con metadatos de estaciones\n",
    "#METADATOS BD\n",
    "server,user,passwd,dbname = SHop.get_credentials(SHop.get_ruta(ConfigList,'ruta_proj')+SHop.get_ruta(ConfigList,'ruta_credenciales'))\n",
    "\n",
    "conn_db = MySQLdb.connect(server,user,passwd,dbname)\n",
    "db_cursor = conn_db.cursor ()\n",
    "query = 'select codigo,nombreestacion,longitude,latitude,estado from estaciones where codigo in (\"%s\",\"%s\",\"%s\",\"%s\",\"%s\",\"%s\",\"%s\",\"%s\",\"%s\");'%(ests[0],ests[1],ests[2],ests[3],ests[4],ests[5],ests[6],ests[7],ests[8])#,\"%s\",\"%s\",\"%s\",\"%s\"\n",
    "\n",
    "db_cursor.execute (query)\n",
    "data = db_cursor.fetchall()\n",
    "conn_db.close()\n",
    "fields = [field.lower() for field in list(np.array(db_cursor.description)[:,0])]\n",
    "df_bd = pd.DataFrame(np.array(data), columns = fields)\n",
    "df_bd['codigo'] = list(map(int,df_bd['codigo']))\n",
    "df_bd = df_bd.set_index('codigo')\n",
    "\n",
    "#OTROS ARGS\n",
    "start = starts_w_h[0]\n",
    "end= end_h\n",
    "Dt = '1h'\n",
    "colors_d = ['lightgreen','g']#['c','darkblue']#\n",
    "ylims = [10,40,40,100,300,200,300]\n",
    "\n",
    "path_r = ruta_out_rain_h.split('.')[0]+'.hdr'\n",
    "path_masks_csv = SHop.get_ruta(ConfigList,'ruta_proj')+SHop.get_ruta(ConfigList,'ruta_csv_subbasinmask')\n",
    "\n",
    "rutafig = SHop.get_ruta(ConfigList,'ruta_proj')+SHop.get_ruta(ConfigList,'ruta_qsim_png')\n",
    "\n",
    "print ('Start graphics: %s'%dt.datetime.now())\n",
    "#GRAFICA\n",
    "SHop.plot_Q(start,end,Dt,server,user,passwd,dbname,\n",
    "            ListEjecs_h,cu,ests,colors_d,path_r,path_masks_csv,\n",
    "            df_bd,df_est_features,ylims,rutafig=rutafig)\n",
    "print ('End graphics: %s'%dt.datetime.now())"
   ]
  },
  {
   "cell_type": "markdown",
   "metadata": {},
   "source": [
    "---"
   ]
  },
  {
   "cell_type": "markdown",
   "metadata": {
    "heading_collapsed": true
   },
   "source": [
    "#### Revisar\n",
    "- revisar los intermedios y que se actualicen correctamente los archivo historicos, que tienen ultima edicion el 22 de ago.\n",
    "- pasar a función para sacar caudal."
   ]
  },
  {
   "cell_type": "code",
   "execution_count": 12,
   "metadata": {
    "ExecuteTime": {
     "end_time": "2020-09-29T13:12:05.189157Z",
     "start_time": "2020-09-29T13:12:05.175353Z"
    },
    "hidden": true
   },
   "outputs": [],
   "source": [
    "#REVISAR CAUDAL.\n",
    "#tramos, para sacar los datos del modelo.\n",
    "df_tramos = pd.read_csv(SHop.get_ruta(ConfigList,'ruta_proj')+SHop.get_ruta(ConfigList,'ruta_nc_tramos'),index_col=0)\n",
    "ests = df_tramos.index\n",
    "#curvas que escogí.\n",
    "df_est_features = pd.read_csv(SHop.get_ruta(ConfigList,'ruta_proj')+SHop.get_ruta(ConfigList,'ruta_curvascalob3'),index_col=0)\n",
    "ests = df_est_features.index\n",
    "tramos_ids = np.concatenate(df_tramos.loc[ests].values)\n",
    "df_est_features['tramo'] = list(map(str,tramos_ids))"
   ]
  },
  {
   "cell_type": "code",
   "execution_count": null,
   "metadata": {
    "hidden": true
   },
   "outputs": [],
   "source": []
  },
  {
   "cell_type": "code",
   "execution_count": 13,
   "metadata": {
    "ExecuteTime": {
     "end_time": "2020-09-29T12:41:33.423277Z",
     "start_time": "2020-09-29T12:41:33.408146Z"
    },
    "hidden": true,
    "scrolled": true
   },
   "outputs": [
    {
     "data": {
      "text/plain": [
       "[[<wmf.wmf.SimuBasin at 0x7f71dda11940>,\n",
       "  'ci2',\n",
       "  array([[2.8050000e+02, 2.8050000e+02, 2.8050000e+02, ..., 4.1489999e+02,\n",
       "          4.1489999e+02, 4.8591667e+01],\n",
       "         [0.0000000e+00, 0.0000000e+00, 0.0000000e+00, ..., 0.0000000e+00,\n",
       "          0.0000000e+00, 0.0000000e+00],\n",
       "         [1.2891123e+00, 8.4649920e-01, 3.1415772e-01, ..., 4.3120492e-01,\n",
       "          8.7539506e-01, 4.1846158e+02],\n",
       "         [3.1673691e+01, 2.8855221e+01, 2.7446735e+01, ..., 1.8915449e+01,\n",
       "          2.8331781e+01, 1.7259819e+03],\n",
       "         [6.0000005e-03, 6.0000005e-03, 6.0000005e-03, ..., 6.0000005e-03,\n",
       "          6.0000005e-03, 1.6343750e+01]], dtype=float32),\n",
       "  '/home/hidrologia/jupyter/SH_op/SHop_E260_90m_1h/SHop/project_files/results/results_op/rain_op/202011202300_202011282200-SHop_E260_90m_1h.bin',\n",
       "  '-p01',\n",
       "  [0.8, 10, 17.7, 0.0, 9.0, 2.0, 15, 0.9, 1.0, 1.0, 1.0],\n",
       "  191,\n",
       "  0,\n",
       "  '1d',\n",
       "  '/home/hidrologia/jupyter/SH_op/SHop_E260_90m_1h/SHop/project_files/results/results_op/Sto_op-p01-ci2-1d',\n",
       "  '/home/hidrologia/jupyter/SH_op/SHop_E260_90m_1h/SHop/project_files/results/results_op/Qsim_op-p01-ci2-1d.csv',\n",
       "  '/home/hidrologia/jupyter/SH_op/SHop_E260_90m_1h/SHop/project_files/results/results_h/Qsim_hist-p01-ci2-1d.csv',\n",
       "  '/home/hidrologia/jupyter/SH_op/SHop_E260_90m_1h/SHop/project_files/results/results_h/MSto_hist-p01-ci2-1d.csv',\n",
       "  120],\n",
       " [<wmf.wmf.SimuBasin at 0x7f71dda11940>,\n",
       "  'ci3',\n",
       "  [220.7983856201172,\n",
       "   0.00016912211140152067,\n",
       "   11.907978057861328,\n",
       "   1054.7948,\n",
       "   0.04679736495018005],\n",
       "  '/home/hidrologia/jupyter/SH_op/SHop_E260_90m_1h/SHop/project_files/results/results_op/rain_op/202011202300_202011282200-SHop_E260_90m_1h.bin',\n",
       "  '-p01',\n",
       "  [0.8, 10, 17.7, 0.0, 9.0, 2.0, 15, 0.9, 1.0, 1.0, 1.0],\n",
       "  191,\n",
       "  0,\n",
       "  '1d',\n",
       "  '/home/hidrologia/jupyter/SH_op/SHop_E260_90m_1h/SHop/project_files/results/results_op/Sto_op-p01-ci3-1d',\n",
       "  '/home/hidrologia/jupyter/SH_op/SHop_E260_90m_1h/SHop/project_files/results/results_op/Qsim_op-p01-ci3-1d.csv',\n",
       "  '/home/hidrologia/jupyter/SH_op/SHop_E260_90m_1h/SHop/project_files/results/results_h/Qsim_hist-p01-ci3-1d.csv',\n",
       "  '/home/hidrologia/jupyter/SH_op/SHop_E260_90m_1h/SHop/project_files/results/results_h/MSto_hist-p01-ci3-1d.csv',\n",
       "  120]]"
      ]
     },
     "execution_count": 13,
     "metadata": {},
     "output_type": "execute_result"
    }
   ],
   "source": [
    "ListEjecs_h"
   ]
  },
  {
   "cell_type": "code",
   "execution_count": 14,
   "metadata": {
    "ExecuteTime": {
     "end_time": "2020-09-29T13:12:09.017440Z",
     "start_time": "2020-09-29T13:12:08.971946Z"
    },
    "hidden": true
   },
   "outputs": [],
   "source": [
    "dflol = pd.read_csv(ListEjecs_h[0][-4],index_col=0,parse_dates=True)"
   ]
  },
  {
   "cell_type": "code",
   "execution_count": 15,
   "metadata": {
    "ExecuteTime": {
     "end_time": "2020-09-29T13:12:09.526496Z",
     "start_time": "2020-09-29T13:12:09.373413Z"
    },
    "hidden": true,
    "scrolled": true
   },
   "outputs": [
    {
     "data": {
      "text/html": [
       "<div>\n",
       "<style scoped>\n",
       "    .dataframe tbody tr th:only-of-type {\n",
       "        vertical-align: middle;\n",
       "    }\n",
       "\n",
       "    .dataframe tbody tr th {\n",
       "        vertical-align: top;\n",
       "    }\n",
       "\n",
       "    .dataframe thead th {\n",
       "        text-align: right;\n",
       "    }\n",
       "</style>\n",
       "<table border=\"1\" class=\"dataframe\">\n",
       "  <thead>\n",
       "    <tr style=\"text-align: right;\">\n",
       "      <th></th>\n",
       "      <th>912</th>\n",
       "      <th>911</th>\n",
       "      <th>910</th>\n",
       "      <th>909</th>\n",
       "      <th>908</th>\n",
       "      <th>907</th>\n",
       "      <th>904</th>\n",
       "      <th>903</th>\n",
       "      <th>900</th>\n",
       "      <th>899</th>\n",
       "      <th>...</th>\n",
       "      <th>10</th>\n",
       "      <th>5</th>\n",
       "      <th>4</th>\n",
       "      <th>9</th>\n",
       "      <th>8</th>\n",
       "      <th>7</th>\n",
       "      <th>6</th>\n",
       "      <th>3</th>\n",
       "      <th>2</th>\n",
       "      <th>1</th>\n",
       "    </tr>\n",
       "  </thead>\n",
       "  <tbody>\n",
       "    <tr>\n",
       "      <th>2020-11-26 00:00:00</th>\n",
       "      <td>0.0</td>\n",
       "      <td>2.588675e-09</td>\n",
       "      <td>4.049124e-10</td>\n",
       "      <td>1.278143e-11</td>\n",
       "      <td>1.695017e-08</td>\n",
       "      <td>4.221923e-09</td>\n",
       "      <td>0.000229</td>\n",
       "      <td>0.000375</td>\n",
       "      <td>0.000234</td>\n",
       "      <td>0.012937</td>\n",
       "      <td>...</td>\n",
       "      <td>52.642666</td>\n",
       "      <td>0.000589</td>\n",
       "      <td>0.021360</td>\n",
       "      <td>0.017860</td>\n",
       "      <td>52.680440</td>\n",
       "      <td>52.849340</td>\n",
       "      <td>0.026946</td>\n",
       "      <td>52.933700</td>\n",
       "      <td>0.034514</td>\n",
       "      <td>53.194557</td>\n",
       "    </tr>\n",
       "    <tr>\n",
       "      <th>2020-11-26 01:00:00</th>\n",
       "      <td>0.0</td>\n",
       "      <td>2.233190e-09</td>\n",
       "      <td>3.528411e-10</td>\n",
       "      <td>1.105543e-11</td>\n",
       "      <td>1.459313e-08</td>\n",
       "      <td>3.686519e-09</td>\n",
       "      <td>0.000216</td>\n",
       "      <td>0.000347</td>\n",
       "      <td>0.000215</td>\n",
       "      <td>0.012090</td>\n",
       "      <td>...</td>\n",
       "      <td>52.485767</td>\n",
       "      <td>0.000556</td>\n",
       "      <td>0.020648</td>\n",
       "      <td>0.017040</td>\n",
       "      <td>52.523434</td>\n",
       "      <td>52.691430</td>\n",
       "      <td>0.026744</td>\n",
       "      <td>52.775482</td>\n",
       "      <td>0.033412</td>\n",
       "      <td>53.034893</td>\n",
       "    </tr>\n",
       "    <tr>\n",
       "      <th>2020-11-26 02:00:00</th>\n",
       "      <td>0.0</td>\n",
       "      <td>1.928625e-09</td>\n",
       "      <td>3.079512e-10</td>\n",
       "      <td>9.582069e-12</td>\n",
       "      <td>1.257359e-08</td>\n",
       "      <td>3.222993e-09</td>\n",
       "      <td>0.000203</td>\n",
       "      <td>0.000321</td>\n",
       "      <td>0.000197</td>\n",
       "      <td>0.011282</td>\n",
       "      <td>...</td>\n",
       "      <td>52.393944</td>\n",
       "      <td>0.000525</td>\n",
       "      <td>0.019959</td>\n",
       "      <td>0.016256</td>\n",
       "      <td>52.431477</td>\n",
       "      <td>52.598557</td>\n",
       "      <td>0.026545</td>\n",
       "      <td>52.682260</td>\n",
       "      <td>0.032344</td>\n",
       "      <td>52.940235</td>\n",
       "    </tr>\n",
       "    <tr>\n",
       "      <th>2020-11-26 03:00:00</th>\n",
       "      <td>0.0</td>\n",
       "      <td>1.667461e-09</td>\n",
       "      <td>2.691995e-10</td>\n",
       "      <td>8.322221e-12</td>\n",
       "      <td>1.084227e-08</td>\n",
       "      <td>2.821275e-09</td>\n",
       "      <td>0.000191</td>\n",
       "      <td>0.000297</td>\n",
       "      <td>0.000180</td>\n",
       "      <td>0.010514</td>\n",
       "      <td>...</td>\n",
       "      <td>52.240463</td>\n",
       "      <td>0.000496</td>\n",
       "      <td>0.019290</td>\n",
       "      <td>0.015505</td>\n",
       "      <td>52.277930</td>\n",
       "      <td>52.444286</td>\n",
       "      <td>0.026347</td>\n",
       "      <td>52.527770</td>\n",
       "      <td>0.031308</td>\n",
       "      <td>52.784480</td>\n",
       "    </tr>\n",
       "    <tr>\n",
       "      <th>2020-11-26 04:00:00</th>\n",
       "      <td>0.0</td>\n",
       "      <td>1.443317e-09</td>\n",
       "      <td>2.357002e-10</td>\n",
       "      <td>7.243079e-12</td>\n",
       "      <td>9.357170e-09</td>\n",
       "      <td>2.472752e-09</td>\n",
       "      <td>0.000180</td>\n",
       "      <td>0.000275</td>\n",
       "      <td>0.000164</td>\n",
       "      <td>0.009785</td>\n",
       "      <td>...</td>\n",
       "      <td>52.059906</td>\n",
       "      <td>0.000468</td>\n",
       "      <td>0.018642</td>\n",
       "      <td>0.014787</td>\n",
       "      <td>52.097300</td>\n",
       "      <td>52.262913</td>\n",
       "      <td>0.026151</td>\n",
       "      <td>52.346150</td>\n",
       "      <td>0.030303</td>\n",
       "      <td>52.601593</td>\n",
       "    </tr>\n",
       "    <tr>\n",
       "      <th>...</th>\n",
       "      <td>...</td>\n",
       "      <td>...</td>\n",
       "      <td>...</td>\n",
       "      <td>...</td>\n",
       "      <td>...</td>\n",
       "      <td>...</td>\n",
       "      <td>...</td>\n",
       "      <td>...</td>\n",
       "      <td>...</td>\n",
       "      <td>...</td>\n",
       "      <td>...</td>\n",
       "      <td>...</td>\n",
       "      <td>...</td>\n",
       "      <td>...</td>\n",
       "      <td>...</td>\n",
       "      <td>...</td>\n",
       "      <td>...</td>\n",
       "      <td>...</td>\n",
       "      <td>...</td>\n",
       "      <td>...</td>\n",
       "      <td>...</td>\n",
       "    </tr>\n",
       "    <tr>\n",
       "      <th>2020-11-28 18:00:00</th>\n",
       "      <td>0.0</td>\n",
       "      <td>4.218238e-02</td>\n",
       "      <td>8.779257e-02</td>\n",
       "      <td>1.461455e-02</td>\n",
       "      <td>2.022644e-01</td>\n",
       "      <td>7.792246e-02</td>\n",
       "      <td>0.002430</td>\n",
       "      <td>0.006377</td>\n",
       "      <td>0.141420</td>\n",
       "      <td>0.205856</td>\n",
       "      <td>...</td>\n",
       "      <td>88.233284</td>\n",
       "      <td>0.000013</td>\n",
       "      <td>0.001934</td>\n",
       "      <td>0.000928</td>\n",
       "      <td>88.274790</td>\n",
       "      <td>88.438780</td>\n",
       "      <td>0.016563</td>\n",
       "      <td>88.521450</td>\n",
       "      <td>0.003991</td>\n",
       "      <td>88.752655</td>\n",
       "    </tr>\n",
       "    <tr>\n",
       "      <th>2020-11-28 19:00:00</th>\n",
       "      <td>0.0</td>\n",
       "      <td>4.061078e-02</td>\n",
       "      <td>8.744102e-02</td>\n",
       "      <td>1.429127e-02</td>\n",
       "      <td>2.053636e-01</td>\n",
       "      <td>7.475828e-02</td>\n",
       "      <td>0.002331</td>\n",
       "      <td>0.005992</td>\n",
       "      <td>0.142220</td>\n",
       "      <td>0.198892</td>\n",
       "      <td>...</td>\n",
       "      <td>87.246650</td>\n",
       "      <td>0.000012</td>\n",
       "      <td>0.001861</td>\n",
       "      <td>0.000910</td>\n",
       "      <td>87.281075</td>\n",
       "      <td>87.431145</td>\n",
       "      <td>0.016442</td>\n",
       "      <td>87.501850</td>\n",
       "      <td>0.003869</td>\n",
       "      <td>87.719950</td>\n",
       "    </tr>\n",
       "    <tr>\n",
       "      <th>2020-11-28 20:00:00</th>\n",
       "      <td>0.0</td>\n",
       "      <td>3.865065e-02</td>\n",
       "      <td>8.524692e-02</td>\n",
       "      <td>1.364420e-02</td>\n",
       "      <td>2.051131e-01</td>\n",
       "      <td>7.054561e-02</td>\n",
       "      <td>0.002232</td>\n",
       "      <td>0.005622</td>\n",
       "      <td>0.141598</td>\n",
       "      <td>0.191110</td>\n",
       "      <td>...</td>\n",
       "      <td>86.948814</td>\n",
       "      <td>0.006051</td>\n",
       "      <td>0.034457</td>\n",
       "      <td>0.002481</td>\n",
       "      <td>86.982810</td>\n",
       "      <td>87.133690</td>\n",
       "      <td>0.016464</td>\n",
       "      <td>87.204220</td>\n",
       "      <td>0.043371</td>\n",
       "      <td>87.461136</td>\n",
       "    </tr>\n",
       "    <tr>\n",
       "      <th>2020-11-28 21:00:00</th>\n",
       "      <td>0.0</td>\n",
       "      <td>3.647068e-02</td>\n",
       "      <td>8.176917e-02</td>\n",
       "      <td>1.280099e-02</td>\n",
       "      <td>2.022229e-01</td>\n",
       "      <td>6.577642e-02</td>\n",
       "      <td>0.002133</td>\n",
       "      <td>0.005266</td>\n",
       "      <td>0.139899</td>\n",
       "      <td>0.182753</td>\n",
       "      <td>...</td>\n",
       "      <td>89.017630</td>\n",
       "      <td>0.016321</td>\n",
       "      <td>0.106586</td>\n",
       "      <td>0.015581</td>\n",
       "      <td>89.060560</td>\n",
       "      <td>89.229904</td>\n",
       "      <td>0.028704</td>\n",
       "      <td>89.319460</td>\n",
       "      <td>0.145657</td>\n",
       "      <td>89.688290</td>\n",
       "    </tr>\n",
       "    <tr>\n",
       "      <th>2020-11-28 22:00:00</th>\n",
       "      <td>0.0</td>\n",
       "      <td>3.419089e-02</td>\n",
       "      <td>7.743856e-02</td>\n",
       "      <td>1.184847e-02</td>\n",
       "      <td>1.972938e-01</td>\n",
       "      <td>6.078926e-02</td>\n",
       "      <td>0.002035</td>\n",
       "      <td>0.004927</td>\n",
       "      <td>0.137369</td>\n",
       "      <td>0.174025</td>\n",
       "      <td>...</td>\n",
       "      <td>90.400370</td>\n",
       "      <td>0.021137</td>\n",
       "      <td>0.135096</td>\n",
       "      <td>0.028627</td>\n",
       "      <td>90.445610</td>\n",
       "      <td>90.632620</td>\n",
       "      <td>0.021631</td>\n",
       "      <td>90.715420</td>\n",
       "      <td>0.182445</td>\n",
       "      <td>91.112740</td>\n",
       "    </tr>\n",
       "  </tbody>\n",
       "</table>\n",
       "<p>71 rows × 911 columns</p>\n",
       "</div>"
      ],
      "text/plain": [
       "                     912           911           910           909  \\\n",
       "2020-11-26 00:00:00  0.0  2.588675e-09  4.049124e-10  1.278143e-11   \n",
       "2020-11-26 01:00:00  0.0  2.233190e-09  3.528411e-10  1.105543e-11   \n",
       "2020-11-26 02:00:00  0.0  1.928625e-09  3.079512e-10  9.582069e-12   \n",
       "2020-11-26 03:00:00  0.0  1.667461e-09  2.691995e-10  8.322221e-12   \n",
       "2020-11-26 04:00:00  0.0  1.443317e-09  2.357002e-10  7.243079e-12   \n",
       "...                  ...           ...           ...           ...   \n",
       "2020-11-28 18:00:00  0.0  4.218238e-02  8.779257e-02  1.461455e-02   \n",
       "2020-11-28 19:00:00  0.0  4.061078e-02  8.744102e-02  1.429127e-02   \n",
       "2020-11-28 20:00:00  0.0  3.865065e-02  8.524692e-02  1.364420e-02   \n",
       "2020-11-28 21:00:00  0.0  3.647068e-02  8.176917e-02  1.280099e-02   \n",
       "2020-11-28 22:00:00  0.0  3.419089e-02  7.743856e-02  1.184847e-02   \n",
       "\n",
       "                              908           907       904       903       900  \\\n",
       "2020-11-26 00:00:00  1.695017e-08  4.221923e-09  0.000229  0.000375  0.000234   \n",
       "2020-11-26 01:00:00  1.459313e-08  3.686519e-09  0.000216  0.000347  0.000215   \n",
       "2020-11-26 02:00:00  1.257359e-08  3.222993e-09  0.000203  0.000321  0.000197   \n",
       "2020-11-26 03:00:00  1.084227e-08  2.821275e-09  0.000191  0.000297  0.000180   \n",
       "2020-11-26 04:00:00  9.357170e-09  2.472752e-09  0.000180  0.000275  0.000164   \n",
       "...                           ...           ...       ...       ...       ...   \n",
       "2020-11-28 18:00:00  2.022644e-01  7.792246e-02  0.002430  0.006377  0.141420   \n",
       "2020-11-28 19:00:00  2.053636e-01  7.475828e-02  0.002331  0.005992  0.142220   \n",
       "2020-11-28 20:00:00  2.051131e-01  7.054561e-02  0.002232  0.005622  0.141598   \n",
       "2020-11-28 21:00:00  2.022229e-01  6.577642e-02  0.002133  0.005266  0.139899   \n",
       "2020-11-28 22:00:00  1.972938e-01  6.078926e-02  0.002035  0.004927  0.137369   \n",
       "\n",
       "                          899  ...         10         5         4         9  \\\n",
       "2020-11-26 00:00:00  0.012937  ...  52.642666  0.000589  0.021360  0.017860   \n",
       "2020-11-26 01:00:00  0.012090  ...  52.485767  0.000556  0.020648  0.017040   \n",
       "2020-11-26 02:00:00  0.011282  ...  52.393944  0.000525  0.019959  0.016256   \n",
       "2020-11-26 03:00:00  0.010514  ...  52.240463  0.000496  0.019290  0.015505   \n",
       "2020-11-26 04:00:00  0.009785  ...  52.059906  0.000468  0.018642  0.014787   \n",
       "...                       ...  ...        ...       ...       ...       ...   \n",
       "2020-11-28 18:00:00  0.205856  ...  88.233284  0.000013  0.001934  0.000928   \n",
       "2020-11-28 19:00:00  0.198892  ...  87.246650  0.000012  0.001861  0.000910   \n",
       "2020-11-28 20:00:00  0.191110  ...  86.948814  0.006051  0.034457  0.002481   \n",
       "2020-11-28 21:00:00  0.182753  ...  89.017630  0.016321  0.106586  0.015581   \n",
       "2020-11-28 22:00:00  0.174025  ...  90.400370  0.021137  0.135096  0.028627   \n",
       "\n",
       "                             8          7         6          3         2  \\\n",
       "2020-11-26 00:00:00  52.680440  52.849340  0.026946  52.933700  0.034514   \n",
       "2020-11-26 01:00:00  52.523434  52.691430  0.026744  52.775482  0.033412   \n",
       "2020-11-26 02:00:00  52.431477  52.598557  0.026545  52.682260  0.032344   \n",
       "2020-11-26 03:00:00  52.277930  52.444286  0.026347  52.527770  0.031308   \n",
       "2020-11-26 04:00:00  52.097300  52.262913  0.026151  52.346150  0.030303   \n",
       "...                        ...        ...       ...        ...       ...   \n",
       "2020-11-28 18:00:00  88.274790  88.438780  0.016563  88.521450  0.003991   \n",
       "2020-11-28 19:00:00  87.281075  87.431145  0.016442  87.501850  0.003869   \n",
       "2020-11-28 20:00:00  86.982810  87.133690  0.016464  87.204220  0.043371   \n",
       "2020-11-28 21:00:00  89.060560  89.229904  0.028704  89.319460  0.145657   \n",
       "2020-11-28 22:00:00  90.445610  90.632620  0.021631  90.715420  0.182445   \n",
       "\n",
       "                             1  \n",
       "2020-11-26 00:00:00  53.194557  \n",
       "2020-11-26 01:00:00  53.034893  \n",
       "2020-11-26 02:00:00  52.940235  \n",
       "2020-11-26 03:00:00  52.784480  \n",
       "2020-11-26 04:00:00  52.601593  \n",
       "...                        ...  \n",
       "2020-11-28 18:00:00  88.752655  \n",
       "2020-11-28 19:00:00  87.719950  \n",
       "2020-11-28 20:00:00  87.461136  \n",
       "2020-11-28 21:00:00  89.688290  \n",
       "2020-11-28 22:00:00  91.112740  \n",
       "\n",
       "[71 rows x 911 columns]"
      ]
     },
     "execution_count": 15,
     "metadata": {},
     "output_type": "execute_result"
    }
   ],
   "source": [
    "dflol"
   ]
  },
  {
   "cell_type": "code",
   "execution_count": 16,
   "metadata": {
    "ExecuteTime": {
     "end_time": "2020-09-29T12:42:26.828416Z",
     "start_time": "2020-09-29T12:42:26.615556Z"
    },
    "hidden": true
   },
   "outputs": [
    {
     "data": {
      "text/plain": [
       "<AxesSubplot:>"
      ]
     },
     "execution_count": 16,
     "metadata": {},
     "output_type": "execute_result"
    },
    {
     "data": {
      "image/png": "[encoded data removed]",
      "text/plain": [
       "<Figure size 432x288 with 1 Axes>"
      ]
     },
     "metadata": {
      "needs_background": "light"
     },
     "output_type": "display_data"
    }
   ],
   "source": [
    "est = 99\n",
    "dflol['2020']['%s'%(df_est_features.tramo.loc[est])].plot() #3d"
   ]
  },
  {
   "cell_type": "code",
   "execution_count": 17,
   "metadata": {
    "ExecuteTime": {
     "end_time": "2020-09-29T13:12:35.716178Z",
     "start_time": "2020-09-29T13:12:35.705776Z"
    },
    "hidden": true,
    "scrolled": true
   },
   "outputs": [
    {
     "data": {
      "text/plain": [
       "DatetimeIndex(['2020-11-26 00:00:00', '2020-11-26 01:00:00',\n",
       "               '2020-11-26 02:00:00', '2020-11-26 03:00:00',\n",
       "               '2020-11-26 04:00:00', '2020-11-26 05:00:00',\n",
       "               '2020-11-26 06:00:00', '2020-11-26 07:00:00',\n",
       "               '2020-11-26 08:00:00', '2020-11-26 09:00:00',\n",
       "               '2020-11-26 10:00:00', '2020-11-26 11:00:00',\n",
       "               '2020-11-26 12:00:00', '2020-11-26 13:00:00',\n",
       "               '2020-11-26 14:00:00', '2020-11-26 15:00:00',\n",
       "               '2020-11-26 16:00:00', '2020-11-26 17:00:00',\n",
       "               '2020-11-26 18:00:00', '2020-11-26 19:00:00',\n",
       "               '2020-11-26 20:00:00', '2020-11-26 21:00:00',\n",
       "               '2020-11-26 22:00:00', '2020-11-26 23:00:00',\n",
       "               '2020-11-27 00:00:00', '2020-11-27 01:00:00',\n",
       "               '2020-11-27 02:00:00', '2020-11-27 03:00:00',\n",
       "               '2020-11-27 04:00:00', '2020-11-27 05:00:00',\n",
       "               '2020-11-27 06:00:00', '2020-11-27 07:00:00',\n",
       "               '2020-11-27 08:00:00', '2020-11-27 09:00:00',\n",
       "               '2020-11-27 10:00:00', '2020-11-27 11:00:00',\n",
       "               '2020-11-27 12:00:00', '2020-11-27 13:00:00',\n",
       "               '2020-11-27 14:00:00', '2020-11-27 15:00:00',\n",
       "               '2020-11-27 16:00:00', '2020-11-27 17:00:00',\n",
       "               '2020-11-27 18:00:00', '2020-11-27 19:00:00',\n",
       "               '2020-11-27 20:00:00', '2020-11-27 21:00:00',\n",
       "               '2020-11-27 22:00:00', '2020-11-27 23:00:00',\n",
       "               '2020-11-28 00:00:00', '2020-11-28 01:00:00',\n",
       "               '2020-11-28 02:00:00', '2020-11-28 03:00:00',\n",
       "               '2020-11-28 04:00:00', '2020-11-28 05:00:00',\n",
       "               '2020-11-28 06:00:00', '2020-11-28 07:00:00',\n",
       "               '2020-11-28 08:00:00', '2020-11-28 09:00:00',\n",
       "               '2020-11-28 10:00:00', '2020-11-28 11:00:00',\n",
       "               '2020-11-28 12:00:00', '2020-11-28 13:00:00',\n",
       "               '2020-11-28 14:00:00', '2020-11-28 15:00:00',\n",
       "               '2020-11-28 16:00:00', '2020-11-28 17:00:00',\n",
       "               '2020-11-28 18:00:00', '2020-11-28 19:00:00',\n",
       "               '2020-11-28 20:00:00', '2020-11-28 21:00:00',\n",
       "               '2020-11-28 22:00:00'],\n",
       "              dtype='datetime64[ns]', freq=None)"
      ]
     },
     "execution_count": 17,
     "metadata": {},
     "output_type": "execute_result"
    }
   ],
   "source": [
    "dflol.index"
   ]
  },
  {
   "cell_type": "markdown",
   "metadata": {},
   "source": [
    "#### Revisar binhumedad."
   ]
  },
  {
   "cell_type": "code",
   "execution_count": 18,
   "metadata": {
    "ExecuteTime": {
     "end_time": "2020-12-10T03:26:57.471787Z",
     "start_time": "2020-12-10T03:26:57.463346Z"
    }
   },
   "outputs": [],
   "source": [
    "f=open(ListEjecs_h[0][-5]+'.StOhdr')\n",
    "filelines=f.readlines()\n",
    "f.close()\n",
    "IDs=np.array([int(i.split(',')[0]) for i in filelines[5:]])"
   ]
  },
  {
   "cell_type": "code",
   "execution_count": 19,
   "metadata": {
    "ExecuteTime": {
     "end_time": "2020-12-10T03:27:22.825945Z",
     "start_time": "2020-12-10T03:27:22.820685Z"
    }
   },
   "outputs": [],
   "source": [
    "v,r = wmf.models.read_float_basin_ncol(ListEjecs_h[0][-5]+'.StObin',100, cu.ncells, 5)"
   ]
  },
  {
   "cell_type": "code",
   "execution_count": 20,
   "metadata": {
    "ExecuteTime": {
     "end_time": "2020-12-10T03:28:20.032237Z",
     "start_time": "2020-12-10T03:28:19.329945Z"
    }
   },
   "outputs": [
    {
     "data": {
      "image/png": "[encoded data removed]",
      "text/plain": [
       "<Figure size 720x576 with 2 Axes>"
      ]
     },
     "metadata": {
      "needs_background": "light"
     },
     "output_type": "display_data"
    },
    {
     "data": {
      "text/plain": [
       "([-75.71068572998047, -75.2148112343857, 5.983959197998047, 6.550444326363504],\n",
       " <AxesSubplot:>)"
      ]
     },
     "execution_count": 20,
     "metadata": {},
     "output_type": "execute_result"
    }
   ],
   "source": [
    "cu.Plot_basinClean(v[0]/wmf.models.max_capilar,show_cbar=True)"
   ]
  },
  {
   "cell_type": "code",
   "execution_count": 21,
   "metadata": {},
   "outputs": [
    {
     "data": {
      "image/png": "[encoded data removed]",
      "text/plain": [
       "<Figure size 720x576 with 2 Axes>"
      ]
     },
     "metadata": {
      "needs_background": "light"
     },
     "output_type": "display_data"
    },
    {
     "data": {
      "text/plain": [
       "([-75.71068572998047, -75.2148112343857, 5.983959197998047, 6.550444326363504],\n",
       " <AxesSubplot:>)"
      ]
     },
     "execution_count": 21,
     "metadata": {},
     "output_type": "execute_result"
    }
   ],
   "source": [
    "cu.Plot_basinClean(v[2]/wmf.models.max_capilar,show_cbar=True)"
   ]
  },
  {
   "cell_type": "markdown",
   "metadata": {},
   "source": [
    "-----"
   ]
  },
  {
   "cell_type": "markdown",
   "metadata": {},
   "source": [
    "-----"
   ]
  },
  {
   "cell_type": "markdown",
   "metadata": {},
   "source": [
    "-----"
   ]
  }
 ],
 "metadata": {
  "kernelspec": {
   "display_name": "hidrologia-Python3",
   "language": "python",
   "name": "hidrologia-python3"
  },
  "language_info": {
   "codemirror_mode": {
    "name": "ipython",
    "version": 3
   },
   "file_extension": ".py",
   "mimetype": "text/x-python",
   "name": "python",
   "nbconvert_exporter": "python",
   "pygments_lexer": "ipython3",
   "version": "3.8.5"
  },
  "toc": {
   "base_numbering": 1,
   "nav_menu": {},
   "number_sections": true,
   "sideBar": true,
   "skip_h1_title": false,
   "title_cell": "Table of Contents",
   "title_sidebar": "Contents",
   "toc_cell": false,
   "toc_position": {},
   "toc_section_display": true,
   "toc_window_display": false
  },
  "varInspector": {
   "cols": {
    "lenName": 16,
    "lenType": 16,
    "lenVar": 40
   },
   "kernels_config": {
    "python": {
     "delete_cmd_postfix": "",
     "delete_cmd_prefix": "del ",
     "library": "var_list.py",
     "varRefreshCmd": "print(var_dic_list())"
    },
    "r": {
     "delete_cmd_postfix": ") ",
     "delete_cmd_prefix": "rm(",
     "library": "var_list.r",
     "varRefreshCmd": "cat(var_dic_list()) "
    }
   },
   "types_to_exclude": [
    "module",
    "function",
    "builtin_function_or_method",
    "instance",
    "_Feature"
   ],
   "window_display": false
  }
 },
 "nbformat": 4,
 "nbformat_minor": 2
}
