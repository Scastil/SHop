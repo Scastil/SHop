{
 "cells": [
  {
   "cell_type": "code",
   "execution_count": 1,
   "metadata": {
    "ExecuteTime": {
     "end_time": "2021-03-13T02:04:04.507362Z",
     "start_time": "2021-03-13T02:04:03.685197Z"
    },
    "code_folding": []
   },
   "outputs": [
    {
     "name": "stdout",
     "output_type": "stream",
     "text": [
      "No se logra importar basemap, por lo tanto no funciona Plot_basin\n"
     ]
    }
   ],
   "source": [
    "# PAQUETES PARA CORRER OP.\n",
    "import numpy as np\n",
    "import pandas as pd\n",
    "import datetime as dt\n",
    "import json\n",
    "import wmf.wmf as wmf\n",
    "import hydroeval\n",
    "import glob\n",
    "import os\n",
    "import hidrologia\n",
    "import SHop\n",
    "\n",
    "import seaborn as sns\n",
    "sns.set(style=\"whitegrid\")\n",
    "sns.set_context('notebook', font_scale=1.13)\n",
    "\n",
    "#FORMATO\n",
    "# fuente\n",
    "import matplotlib\n",
    "matplotlib.use('Agg')\n",
    "import matplotlib.font_manager as fm\n",
    "import pylab as pl \n",
    "pl.rc('text',color= '#4f4f4f')\n",
    "\n",
    "#avoid warnings\n",
    "import warnings\n",
    "warnings.filterwarnings('ignore')"
   ]
  },
  {
   "cell_type": "code",
   "execution_count": 2,
   "metadata": {
    "ExecuteTime": {
     "end_time": "2021-03-13T02:04:07.182041Z",
     "start_time": "2021-03-13T02:04:07.175699Z"
    },
    "code_folding": []
   },
   "outputs": [],
   "source": [
    "# PAQUETES A CORRER EN PLANTILLA.\n",
    "%matplotlib inline"
   ]
  },
  {
   "cell_type": "markdown",
   "metadata": {},
   "source": [
    "#### Ejecución horaria.\n",
    "\n",
    "Nota: Esta ejecución necesita que la ejecución diaria ya este configurada y generando resultados: CId"
   ]
  },
  {
   "cell_type": "markdown",
   "metadata": {},
   "source": [
    "- Ejecución del modelo y gráficas."
   ]
  },
  {
   "cell_type": "code",
   "execution_count": 3,
   "metadata": {
    "ExecuteTime": {
     "end_time": "2021-03-13T02:04:07.908629Z",
     "start_time": "2021-03-13T02:04:07.903232Z"
    }
   },
   "outputs": [],
   "source": [
    "############################################################################################  FECHA\n",
    "date_ev = pd.to_datetime(dt.datetime.now().strftime('%Y-%m-%d %H')) #pd.to_datetime('2021-03-09 18:00') #"
   ]
  },
  {
   "cell_type": "code",
   "execution_count": 30,
   "metadata": {
    "ExecuteTime": {
     "end_time": "2021-03-08T22:17:42.117117Z",
     "start_time": "2021-03-08T22:17:22.540771Z"
    },
    "code_folding": [
     0
    ],
    "collapsed": true
   },
   "outputs": [
    {
     "name": "stdout",
     "output_type": "stream",
     "text": [
      "107\n",
      "118\n",
      "188\n",
      "237\n",
      "235\n",
      "1004\n",
      "296\n",
      "396\n",
      "422\n",
      "424\n",
      "436\n",
      "455\n"
     ]
    }
   ],
   "source": [
    "#crear archvios actualizables de HSobs.\n",
    "# end = date_ev\n",
    "# path_dfh =  SHop.get_ruta(ConfigList,'ruta_proj')+SHop.get_ruta(ConfigList,'ruta_HSobs_op')\n",
    "# for esth in df_bd_h.index[:]:\n",
    "#     print (esth)\n",
    "#     soilm_df= SHop.query_humedad(esth,'1T',server,user,passwd,dbname,df_bd_h,start=end-pd.Timedelta('10d'),end=end,\n",
    "#                                 update_or_save_csv=1,path_dfh = path_dfh,calidad=False)"
   ]
  },
  {
   "cell_type": "code",
   "execution_count": 4,
   "metadata": {
    "ExecuteTime": {
     "end_time": "2021-03-13T02:07:58.924575Z",
     "start_time": "2021-03-13T02:04:09.259056Z"
    },
    "code_folding": [
     0
    ],
    "scrolled": true
   },
   "outputs": [
    {
     "name": "stdout",
     "output_type": "stream",
     "text": [
      "2021-03-12 21:04:09.303338\n",
      "#########################\n",
      "Start HOURLY execution: 2021-03-12 21:04:09.405473\n",
      "SERVER_CON: Succesful connection to Sal\n",
      "WARNING: converting rain data, it may take a while ---- dt:3600.0\n",
      "error - no field found \n",
      ".bin & .hdr saved\n",
      "/home/socastillogi/jupyter/git/SHop/project_files/results/results_op/rain_op/202103042000_202103122200-SHop_E260_90m_1h.bin\n",
      "Start simulations: 2021-03-12 21:06:34.807277\n",
      "start: 2021-03-04 21:00:00 - end: 2021-03-12 22:00:00\n",
      "Warning: model will save states in all time steps this may require a lot of space\n",
      "Config. -p01ci2-/home/socastillogi/jupyter/git/SHop/project_files/results/results_h/Qsim_hist-p01-ci2-1d.csv ejecutado\n",
      "Warning: model will save states in all time steps this may require a lot of space\n",
      "Config. -p01ci3-/home/socastillogi/jupyter/git/SHop/project_files/results/results_h/Qsim_hist-p01-ci3-1d.csv ejecutado\n",
      "End simulations: 2021-03-12 21:06:43.585322\n",
      "Consulta exitosa de Nobs\n",
      "Graphics are generated: Qval\n",
      "Graphics are generated: Qotros\n",
      "Graphics are generated: Nval\n",
      "Graphics are generated: HS\n",
      "Graphics are generated: maps HS.\n",
      "Se copian mapas para hist en: /home/socastillogi/jupyter/git/SHop/project_files/results/graficas/humedaddelsuelo/mapas/hglog/\n",
      "Se copian mapas para hist en: socastillogi@192.168.1.74:/var/www/data/modelo_hidrologico_op/humedaddelsuelo/mapas/hglog/202103122200.png\n",
      "Se copian mapas para hist en: /home/socastillogi/jupyter/git/SHop/project_files/results/graficas/humedaddelsuelo/mapas/psat/\n",
      "Se copian mapas para hist en: socastillogi@192.168.1.74:/var/www/data/modelo_hidrologico_op/humedaddelsuelo/mapas/psat/202103122200.png\n",
      "Se copian archivos en socastillogi@192.168.1.74:/var/www/hidrologia/SH_op/graficas_op/\n",
      "107     A\n",
      "118     P\n",
      "188     A\n",
      "237     P\n",
      "235     A\n",
      "1004    P\n",
      "296     A\n",
      "396     A\n",
      "422     A\n",
      "424     A\n",
      "436     A\n",
      "455     A\n",
      "Name: estado, dtype: object\n",
      ".kml generated.\n",
      "Se copia kml en socastillogi@192.168.1.74:/var/www/kml/01_Redes/\n",
      "2021-03-12 21:07:58.920889\n"
     ]
    }
   ],
   "source": [
    "############################################################################################  ARGUMENTOS\n",
    "print (dt.datetime.now())\n",
    "\n",
    "#configfile horario\n",
    "ruta_proj = '/home/socastillogi/jupyter/git/SHop/'\n",
    "configfile=ruta_proj+'project_files/inputs/configfile_SHop_E260_90m_1h.md'\n",
    "save_hist = True ###############################################################False for first times\n",
    "dateformat_starts_h = '%Y-%m-%d %H'\n",
    "date_h = pd.to_datetime(date_ev.strftime(dateformat_starts_h))\n",
    "ConfigList= SHop.get_rutesList(configfile)\n",
    "\n",
    "#configfile diario\n",
    "configfile_d=SHop.get_ruta(ConfigList,'ruta_md_d')\n",
    "ConfigList_d= SHop.get_rutesList(configfile_d)\n",
    "\n",
    "# abrir simubasin\n",
    "path_ncbasin = SHop.get_ruta(ConfigList,'ruta_proj')+SHop.get_ruta(ConfigList,'ruta_nc')\n",
    "cu = wmf.SimuBasin(rute=path_ncbasin)\n",
    "#sets para correr modelo.\n",
    "SHop.set_modelsettings(ConfigList)\n",
    "warming_steps =  5*24 # 5d de wupt #pasos de simulacion no seg, dependen del dt.\n",
    "warming_window ='%ss'%int(wmf.models.dt * warming_steps) #siempre en seg\n",
    "dateformat_starts = '%Y-%m-%d %H'\n",
    "dateformat_binrain = '%Y%m%d%H%M'\n",
    "\n",
    "#definicion de ventanas\n",
    "starts  = ['%ss'%(3*24*60*60),'%ss'%(3*24*60*60)] #en seg\n",
    "starts_names = ['1d']*2  #starts y windows deben ser del mismo len, y coincidir en info\n",
    "window_end = '%ss'%(1*60*60) #corre la ventana asignada + una hora hacia adelante para agarrar lo que haya de lluvia hasta el momento\n",
    "\n",
    "#definicion de executionprops\n",
    "df_executionprops_h = pd.DataFrame([starts,\n",
    "                                  starts_names,\n",
    "                                  ['%s-p01-ci1-90d.StOhdr'%(SHop.get_ruta(ConfigList_d,'ruta_proj')+SHop.get_ruta(ConfigList_d,'ruta_sto_op')),\n",
    "                                  'reglas_pant'],\n",
    "                                  ['ci2','ci3'],\n",
    "                                  [[0.8 , 10 , 17.7 , 0.0 , 9.0 , 2.0 , 15 , 0.9 , 1.0 , 1.0, 1.0 ],\n",
    "                                   [0.8 , 10 , 17.7 , 0.0 , 9.0 , 2.0 , 15 , 0.9 , 1.0 , 1.0, 1.0 ]],\n",
    "                                  ['-p01','-p01'],\n",
    "                                  [0,0]], #pasos de sim, depende de dt\n",
    "                                 columns = [1,2],\n",
    "                                 index = ['starts','start_names','CIs','CI_names','pars','pars_names','wup_steps']).T\n",
    "\n",
    "print ('#########################')\n",
    "print ('Start HOURLY execution: %s'%dt.datetime.now())    \n",
    "#ventanas de tiempo en que se correra\n",
    "\n",
    "\n",
    "#dates\n",
    "start_o = pd.to_datetime(pd.to_datetime(date_h).strftime(dateformat_starts_h))#arranca desde 3d antes pa tener ventana de plot.\n",
    "\n",
    "starts_w_h = [start_o - pd.Timedelta(start) for start in starts]\n",
    "starts_m_h = [start_w_h - pd.Timedelta(warming_window) for start_w_h in starts_w_h]\n",
    "end_h = pd.to_datetime(pd.to_datetime(start_o).strftime(dateformat_starts)) + pd.Timedelta(window_end)\n",
    "\n",
    "            \n",
    "#lectura de creds.\n",
    "server,user,passwd,dbname,user2var,host2var = SHop.get_credentials(SHop.get_ruta(ConfigList,'ruta_proj')+SHop.get_ruta(ConfigList,'ruta_credenciales'))\n",
    "\n",
    "#consulta x,y estaciones de humedad.\n",
    "df_xy_est = hidrologia.bd.sql_query('select codigo,longitude,latitude from estaciones where red in (\"humedad\",\"humedad_stevens\",\"humedad_laderas_5te_rasp\",\"humedad_stevens_laderas_rasp\") and estado in (\"A\",\"P\")',\n",
    "                                 server,user,passwd,dbname)\n",
    "#coordenadas to numeric\n",
    "df_xy_est = df_xy_est.apply(pd.to_numeric, errors='ignore')\n",
    "df_xy_estH = df_xy_est.set_index('codigo')\n",
    "# df_xy_estH = pd.read_csv('df_xy_estH.csv',index_col=0)\n",
    "\n",
    "\n",
    "# rainfall  : takes 3min\n",
    "pseries,ruta_out_rain_h = SHop.get_rainfall2sim(ConfigList,cu,path_ncbasin,[starts_m_h[0]],end_h, #se corre el bin mas largo.\n",
    "                                             Dt= float(wmf.models.dt),include_escenarios=None,\n",
    "                                             evs_hist= False,\n",
    "                                             check_file=True,stepback_start = '%ss'%int(wmf.models.dt*1),\n",
    "                                             complete_naninaccum=True,verbose=False)\n",
    "\n",
    "print (ruta_out_rain_h)\n",
    "\n",
    "SHop.set_modelsettings(ConfigList)\n",
    "# set of executions\n",
    "ListEjecs_h =  SHop.get_executionlists_fromdf(ConfigList,ruta_out_rain_h,cu,starts_m_h,end_h,df_executionprops_h,\n",
    "                                         df_xy_estH,warming_steps=warming_steps, \n",
    "                                         dateformat_starts = dateformat_starts_h,\n",
    "                                         path_pant4rules = ruta_out_rain_h)#,fecha_binsto = starts_m_h[0])\n",
    "\n",
    "# #execution\n",
    "print ('Start simulations: %s'%dt.datetime.now())\n",
    "print ('start: %s - end: %s'%(starts_m_h[0], end_h))\n",
    "SHop.set_modelsettings(ConfigList)\n",
    "res = SHop.get_qsim(ListEjecs_h[:],set_CI=True,save_hist=save_hist,verbose = True)\n",
    "print ('End simulations: %s'%dt.datetime.now())\n",
    "                         \n",
    "######################################################## GRAFICAS RESULTADOS\n",
    "\n",
    "################################################# ARGS. GRAFICAS\n",
    "\n",
    "start = starts_w_h[0]\n",
    "end= end_h\n",
    "\n",
    "#METADATOS CAUDAL\n",
    "estsn = np.array([169, 124, 106, 179, 94, 93, 99, 359, 346, 140]) \n",
    "#tramos, para sacar los datos del modelo.\n",
    "df_est_metadatos = pd.read_csv(SHop.get_ruta(ConfigList,'ruta_proj')+SHop.get_ruta(ConfigList,'ruta_nc_metadatos'),index_col=0)\n",
    "df_est_metadatos = df_est_metadatos.loc[estsn] #331, 91,342\n",
    "\n",
    "#otros tramos que neider pidio\n",
    "df_otrostramos = pd.read_csv(SHop.get_ruta(ConfigList,'ruta_proj')+SHop.get_ruta(ConfigList,'ruta_nc_metadatos_otrostramos'),header=None)\n",
    "df_otrostramos.columns = ['nombrecauce','tramo']\n",
    "\n",
    "#METADATOS BD NIVEL\n",
    "query = \"select codigo,nombreestacion,estado,longitude,latitude,offsetn,action_level,minor_flooding,moderate_flooding,major_flooding from estaciones where codigo in %s;\"%(str(tuple(['%s'%estn for estn in estsn])))\n",
    "df_bd_n = hidrologia.bd.sql_query(query,server,user,passwd,dbname).set_index('codigo')\n",
    "df_bd_n.index = list(map(int,df_bd_n.index)) ; df_bd_n = df_bd_n.loc[estsn];df_bd_n.columns = ['nombreestacion','estado','longitude','latitude','offsetn','n2','n3','n4','n5']\n",
    "df_bd=df_bd_n.loc[:,'longitude':].apply(pd.to_numeric, errors='coerce')\n",
    "df_bd[['nombreestacion','estado']] = df_bd_n[['nombreestacion','estado']]\n",
    "df_bd_n = df_bd.copy()\n",
    "\n",
    "#MEAN RAINFALL IN EACH BASIN\n",
    "path_r = ruta_out_rain_h.split('.')[0]+'.hdr'\n",
    "Dt = '1h'\n",
    "ests = estsn\n",
    "path_masks_csv = SHop.get_ruta(ConfigList,'ruta_proj')+SHop.get_ruta(ConfigList,'ruta_csv_subbasinmask')\n",
    "\n",
    "df_pbasins = SHop.get_pradar_withinnc(path_r,cu,start,end,Dt,ests,path_masks_csv=path_masks_csv)\n",
    "\n",
    "#METADATOS BD HUMEDAD\n",
    "estsh = [107,118,188,237,235,1004,296,396,422,424,436,455] #set order for metadata. \n",
    "query = 'select codigo, nombreestacion,ciudad,estado,hd,red from estaciones where red in (\"humedad\",\"humedad_stevens\",\"humedad_laderas_5te_rasp\",\"humedad_stevens_laderas_rasp\") and estado in (\"A\",\"P\")'\n",
    "df_bd_h = hidrologia.bd.sql_query(query,server,user,passwd,dbname).set_index('codigo')\n",
    "df_bd_h.index = list(map(int,df_bd_h.index)) ; df_bd_h = df_bd_h.loc[estsh]\n",
    "df_bd_h.columns = ['nombreestacion', 'ciudad', 'estado', 'tipo_sensor', 'red']\n",
    "df_bd_h.tipo_sensor = list(map(int,df_bd_h.tipo_sensor.values))\n",
    "estsh = list(df_bd_h.index)\n",
    "\n",
    "#asignaciones\n",
    "codigos_pluvio = np.array([20,288,189,25,43,57,295,43,295,389,373,418])\n",
    "#si en la consulta hay mas filas que pluvio, se descartan las filas que excden el size. puede que haya una estacion nueva y no nos hayan contado.\n",
    "#No se grafica hasta que se tengan todos los metadatos, \n",
    "if df_bd_h.shape[0]>codigos_pluvio.size:\n",
    "    print('Warning: Possibly there are more stations than pluviometers assigned. %s vs. %s'%(df_bd_h.shape[0],codigos_pluvio.size))\n",
    "    df_bd_h = df_bd_h.loc[df_bd_h.index[:codigos_pluvio.size]]\n",
    "\n",
    "else:\n",
    "    pass\n",
    "\n",
    "\n",
    "df_bd_h[['p_asociado','sensor_h','depths2drop','depths_laderas']] = pd.DataFrame([codigos_pluvio,\n",
    "                                                                       [[1,2,3],[1,3],[2,3],[2],[1,2,3],[1,2,3],[1,2],[1,2,3],[1,2,3],[1,2],[1],[1,2]],\n",
    "                                                          np.array([None,[2],[1],[1,3],None,[3],None,None,None,[3],[2,3],[3]]),\n",
    "                                                          np.array([None,None,None,None,None,None,None,None,None,['1','1.2'],['1.36'],['0.5','1']])],\n",
    "                                                          columns=df_bd_h.index, \n",
    "                                                          index = ['p_asociado','sensor_h','depths2drop','depths_laderas']).T\n",
    "\n",
    "\n",
    "# POINT RAINFALL IN ESTS_H: kernel 3x3\n",
    "estsh = list(df_xy_estH.index)\n",
    "df_pestsH = SHop.get_pradar_withinnc(path_r,cu,start,end,Dt,estsh,df_points = df_xy_estH)\n",
    "\n",
    "#SET FONTPROPS\n",
    "ruta_fuentes= SHop.get_ruta(ConfigList,'ruta_fuente')\n",
    "SHop.set_fontprops(ruta_fuentes)\n",
    "\n",
    "\n",
    "######################################### CONSULTA NOBS. estaciones validacion\n",
    "Dt = '%ss'%(int(wmf.models.dt))\n",
    "ruta_nobs = SHop.get_ruta(ConfigList,'ruta_proj')+SHop.get_ruta(ConfigList,'ruta_nobs_op')\n",
    "ruta_qobs = SHop.get_ruta(ConfigList,'ruta_proj')+SHop.get_ruta(ConfigList,'ruta_qobs_op')\n",
    "\n",
    "df_nobs,df_qobs = SHop.consulta_nyqobs(estsn,start,end,server,user,passwd,dbname,Dt,\n",
    "                                  df_est_metadatos,ruta_qobs,ruta_nobs,save_hist=False)\n",
    "\n",
    "########################################## GRAFICAS CAUDAL estaciones validacion\n",
    "colors_q = ['c','darkblue'] ; ylims_q = np.array([10,20,40,40,100,100,300,200,200,200])\n",
    "rutafig = SHop.get_ruta(ConfigList,'ruta_proj')+SHop.get_ruta(ConfigList,'ruta_qsim_png')\n",
    "\n",
    "SHop.plot_Q(estsn,ylims_q,ListEjecs_h,colors_q,df_est_metadatos,df_bd_n,df_qobs,df_pbasins,rutafig = rutafig)\n",
    "\n",
    "########################################## GRAFICAS CAUDAL - otros tramos \n",
    "colors = ['c','darkblue']\n",
    "rutafig = SHop.get_ruta(ConfigList,'ruta_proj')+SHop.get_ruta(ConfigList,'ruta_qsim_png')\n",
    "names_otrostramos = []\n",
    "for name in df_otrostramos.nombrecauce.values: \n",
    "    if len(name.split(' ')) > 2: names_otrostramos.append(''.join(name.split(' ')[-2:])) \n",
    "    else: names_otrostramos.append(name.split(' ')[-1:][0])\n",
    "df_otrostramos['id'] = names_otrostramos\n",
    "\n",
    "SHop.plot_Qotros(df_otrostramos,ListEjecs_h,colors,rutafig=rutafig)\n",
    "\n",
    "########################################## GRAFICAS NIVEL est. validacion\n",
    "rutafig = SHop.get_ruta(ConfigList,'ruta_proj')+SHop.get_ruta(ConfigList,'ruta_nsim_png')\n",
    "colors_n = ['lightgreen','g'] ; ylims_n = ylims_q/10.\n",
    "SHop.plot_N(estsn,ylims_n,ListEjecs_h,colors_n,df_est_metadatos,df_bd_n,df_nobs,df_pbasins,rutafig=rutafig)\n",
    "\n",
    "########################################## GRAFICAS HUMEDAD estaciones\n",
    "rutafig = SHop.get_ruta(ConfigList,'ruta_proj')+SHop.get_ruta(ConfigList,'ruta_hs_sim_png')\n",
    "colors_sim = [(0.7114648212226067, 0.801276432141484, 0.8883044982698962, 1.0),\n",
    "              (0.5490196078431373, 0.49036524413687044, 0.7286735870818916, 1.0)]\n",
    "\n",
    "#NOTA: correr el query_humedad guardando los datos historicos antes de poner operativo este.\n",
    "path_dfh =  SHop.get_ruta(ConfigList,'ruta_proj')+SHop.get_ruta(ConfigList,'ruta_HSobs_op')\n",
    "# for esth in df_bd_h.index[:]:\n",
    "#     print (esth)\n",
    "#     soilm_df= query_humedad(esth,'1T',server,user,passwd,dbname,df_bd_h,start=start,end=end,\n",
    "#                                 update_or_save_csv=1,path_dfh = path_dfh,calidad=False)\n",
    "\n",
    "SHop.plotHS(df_bd_h,start,end,ListEjecs_h,colors_sim,df_est_metadatos,df_pestsH,\n",
    "       server,user,passwd,dbname,path_dfh,Dt,rutafig= rutafig)\n",
    "\n",
    "########################################## GRAFICAS HUMEDAD MAPAS porc_sat y hg_log\n",
    "chosen_L = ListEjecs_h[0]\n",
    "ruta_map_hglog = '%s%s%s'%(SHop.get_ruta(ConfigList,'ruta_proj'),SHop.get_ruta(ConfigList,'ruta_hglog_sim_png'),'hglog.png')\n",
    "ruta_map_psat = '%s%s%s'%(SHop.get_ruta(ConfigList,'ruta_proj'),SHop.get_ruta(ConfigList,'ruta_hglog_sim_png'),'porcsat.png')\n",
    "ruta_map_psats = SHop.get_ruta(ConfigList,'ruta_proj')+SHop.get_ruta(ConfigList,'ruta_psat_sim_2gif')\n",
    "ruta_map_hglogs = SHop.get_ruta(ConfigList,'ruta_proj')+SHop.get_ruta(ConfigList,'ruta_hglog_sim_2gif')\n",
    "ruta_mapas_sim_sal = SHop.get_ruta(ConfigList,'ruta_mapas_sim_sal')\n",
    "\n",
    "SHop.plot_mapas_HS(chosen_L,ruta_map_hglog, ruta_map_psat,ruta_map_hglogs,ruta_map_psats,\n",
    "                   user2var,host2var,ruta_mapas_sim_sal)\n",
    "\n",
    "\n",
    "########################################## COPIAR FIGS AL VAR/WWW\n",
    "#ls -al ~/.ssh/id_*.pub #chekear key\n",
    "# ssh-keygen -t rsa #crear key #responder preguntas con enter y ya.\n",
    "# ssh-copy-id remote_username@remote_IP_Address\n",
    "\n",
    "ruta_var = '%s@%s:/var/www/hidrologia/SH_op/graficas_op/'%(user2var,host2var)\n",
    "ruta_graficas = SHop.get_ruta(ConfigList,'ruta_proj')+SHop.get_ruta(ConfigList,'ruta_graficas_resultados')\n",
    "\n",
    "res = os.system('rsync -r -v -a -z -e ssh --exclude={\"%s\",\"%s\"} %s* %s'%('humedaddelsuelo/mapas/psat','humedaddelsuelo/mapas/hglog',ruta_graficas, ruta_var))\n",
    "if res == 0:\n",
    "    print ('Se copian archivos en %s'%(ruta_var))\n",
    "else:\n",
    "    print ('No se copian archivos en %s'%(ruta_var))\n",
    "    \n",
    "    \n",
    "############################################################# KML\n",
    "g1 = '''<Placemark>\n",
    "<styleUrl>#testIcon197</styleUrl>\n",
    "<name>{0}</name>\n",
    "<ExtendedData><SchemaData schemaUrl=\"#Humedad_new\">\n",
    "    <SimpleData name=\"Codigo\">{1}</SimpleData>\n",
    "    <SimpleData name=\"Municipio\">{2}</SimpleData>\n",
    "    <SimpleData name=\"Latitud\">{3}</SimpleData>\n",
    "    <SimpleData name=\"Longitud\">{4}</SimpleData>\n",
    "    <SimpleData name=\"icon\">{7}</SimpleData>\n",
    "    <SimpleData name=\"info\">Los sensores de humedad del suelo miden el contenido volumétrico de agua en el suelo (CVA), es decir, la proporción [%] entre el volumen de agua y el volumen total de una esfera de suelo (alcance del sensor). Sus datos los llamamos observaciones (obs.), son información puntual, particular del lugar de instalación. Las observaciones cambian con variables como: la precipitación en el punto (que medimos con pluviómetros) y la profundidad de instalación de cada sensor. De hecho, en algunas estaciones hay varios sensores instalados a diferente profundidad.\\n Por otro lado, el modelo hidrológico simula el CVA promedio de todo un perfil de suelo, independiente de la profundidad. Estos datos los llamamos simulaciones (sim.) y para obtenerlos se realizáron ejecuciones del modelo a partir de la precipitación derivada del radar meteorológico. \\nDadas las variaciones entre la información observada y simulada, es preciso aclarar que esta figura siempre compara la humedad simulada (CVA_sim) respecto a las observaciones (CVA_obs) del sensor de humedad más superficial de cada estación. Además, siempre muestra la precipitación medida por pluviómetros y por radar para permitir una mejor comparación de los datos.</SimpleData>\n",
    "    <SimpleData name=\"fecha_ultima_actualizacion\">{5}</SimpleData>\n",
    "    <SimpleData name=\"G_3_H_CVA\">{6}</SimpleData>\n",
    "</SchemaData></ExtendedData>\n",
    "    <Point><coordinates>{4},{3}</coordinates></Point>\n",
    "</Placemark>\n",
    "'''\n",
    "\n",
    "blocks = []\n",
    "path_figs = 'http://siata.gov.co/hidrologia/SH_op/graficas_op/humedaddelsuelo/estaciones/'\n",
    "path_kml_format = SHop.get_ruta(ConfigList,'ruta_proj')+SHop.get_ruta(ConfigList,'ruta_kmlhumedad_formato')\n",
    "path_kml = SHop.get_ruta(ConfigList,'ruta_proj')+SHop.get_ruta(ConfigList,'ruta_kmlhumedad_geoportal')\n",
    "url_icono = SHop.get_ruta(ConfigList,'ruta_kmlhumedad_icono')\n",
    "df_bd_h[['longitude','latitude']] = df_xy_estH\n",
    "df_metadata = df_bd_h.copy()\n",
    "print (df_metadata.estado)\n",
    "\n",
    "###################################################ejecucion\n",
    "kml = SHop.write_kml_humedad(df_metadata.index,df_bd_h,path_figs,path_kml_format,path_kml,g1,url_icono)\n",
    "ruta_var_kml = '%s@%s:/var/www/kml/01_Redes/'%(user2var,host2var)\n",
    "\n",
    "# res = os.system('scp -r %s %s'%(path_kml, ruta_var_kml))\n",
    "res = os.system('rsync -r -v -a -z -e ssh %s %s'%(path_kml, ruta_var_kml))\n",
    "if res == 0:\n",
    "    print ('Se copia kml en %s'%(ruta_var_kml))\n",
    "else:\n",
    "    print ('No se copia kml en %s'%(ruta_var_kml))\n",
    "      \n",
    "print (dt.datetime.now())"
   ]
  },
  {
   "cell_type": "code",
   "execution_count": 57,
   "metadata": {
    "ExecuteTime": {
     "end_time": "2021-03-10T18:29:26.798449Z",
     "start_time": "2021-03-10T18:29:26.772640Z"
    }
   },
   "outputs": [],
   "source": []
  },
  {
   "cell_type": "code",
   "execution_count": null,
   "metadata": {},
   "outputs": [],
   "source": []
  },
  {
   "cell_type": "code",
   "execution_count": 20,
   "metadata": {
    "ExecuteTime": {
     "end_time": "2021-03-09T23:09:39.947533Z",
     "start_time": "2021-03-09T23:09:39.942677Z"
    }
   },
   "outputs": [
    {
     "name": "stdout",
     "output_type": "stream",
     "text": [
      "hourly execution takes: 240.0 seg.\n"
     ]
    }
   ],
   "source": [
    "print('hourly execution takes: %s seg.'%(4*60.))"
   ]
  },
  {
   "cell_type": "code",
   "execution_count": 6,
   "metadata": {
    "ExecuteTime": {
     "end_time": "2021-03-12T20:30:47.125323Z",
     "start_time": "2021-03-12T20:30:46.993251Z"
    },
    "collapsed": true
   },
   "outputs": [
    {
     "data": {
      "text/plain": [
       "<AxesSubplot:xlabel=' Fecha '>"
      ]
     },
     "execution_count": 6,
     "metadata": {},
     "output_type": "execute_result"
    },
    {
     "data": {
      "image/png": "[encoded data removed]",
      "text/plain": [
       "<Figure size 432x288 with 1 Axes>"
      ]
     },
     "metadata": {
      "needs_background": "light"
     },
     "output_type": "display_data"
    }
   ],
   "source": [
    "# checkear que lluvia este normi y no en cero.\n",
    "df_st = wmf.read_rain_struct(ruta_out_rain_h.split('.')[0]+'.hdr')\n",
    "df_st[' Lluvia'].plot()"
   ]
  },
  {
   "cell_type": "markdown",
   "metadata": {},
   "source": [
    "- Nota: Revisar las gráficas operativas para verificar que todo esté funcionando correctamente"
   ]
  },
  {
   "cell_type": "code",
   "execution_count": null,
   "metadata": {},
   "outputs": [],
   "source": []
  },
  {
   "cell_type": "markdown",
   "metadata": {
    "heading_collapsed": true
   },
   "source": [
    "#### escribir 1eras  imágenes humedad para histórico"
   ]
  },
  {
   "cell_type": "code",
   "execution_count": 48,
   "metadata": {
    "ExecuteTime": {
     "end_time": "2021-03-12T21:19:31.292069Z",
     "start_time": "2021-03-12T21:19:31.285747Z"
    },
    "hidden": true
   },
   "outputs": [],
   "source": [
    "#configfile horario\n",
    "ruta_proj = '/home/socastillogi/jupyter/git/SHop/'\n",
    "configfile=ruta_proj+'project_files/inputs/configfile_SHop_E260_90m_1h.md'\n",
    "save_hist = True ###############################################################False for first times\n",
    "dateformat_starts_h = '%Y-%m-%d %H'\n",
    "date_h = pd.to_datetime(date_ev.strftime(dateformat_starts_h))\n",
    "ConfigList= SHop.get_rutesList(configfile)"
   ]
  },
  {
   "cell_type": "code",
   "execution_count": 42,
   "metadata": {
    "ExecuteTime": {
     "end_time": "2021-03-12T21:14:17.180401Z",
     "start_time": "2021-03-12T21:14:17.172679Z"
    },
    "hidden": true
   },
   "outputs": [],
   "source": [
    "L = ListEjecs_h[0]\n",
    "ruta_map_hglog\n",
    "ruta_map_porcsat\n",
    "\n",
    "ruta_map_psats = SHop.get_ruta(ConfigList,'ruta_proj')+SHop.get_ruta(ConfigList,'ruta_psat_sim_2gif')\n",
    "ruta_map_hglogs = SHop.get_ruta(ConfigList,'ruta_proj')+SHop.get_ruta(ConfigList,'ruta_hglog_sim_2gif')\n",
    "# ruta_map_psats_sal = SHop.get_ruta(ConfigList,'ruta_proj')+SHop.get_ruta(ConfigList,'ruta_psat_sim_2gif_sal')\n",
    "# ruta_map_hglogs_sal = SHop.get_ruta(ConfigList,'ruta_proj')+SHop.get_ruta(ConfigList,'ruta_hglog_sim_2gif_sal')"
   ]
  },
  {
   "cell_type": "markdown",
   "metadata": {
    "hidden": true
   },
   "source": [
    "- escribir imagenes de ultimos 3d la primera vez, luego ,a otra función lo actualizará"
   ]
  },
  {
   "cell_type": "code",
   "execution_count": null,
   "metadata": {
    "ExecuteTime": {
     "end_time": "2021-03-12T21:16:04.026218Z",
     "start_time": "2021-03-12T21:14:35.725335Z"
    },
    "hidden": true
   },
   "outputs": [],
   "source": [
    "# def plot_mapas_HS(L,ruta_map_hglog, ruta_map_porcsat):\n",
    "    \n",
    "cu = L[0]\n",
    "f=open(L[9]+'.StOhdr')\n",
    "filelines=f.readlines()\n",
    "f.close()\n",
    "IDs= np.array([int(i.split(',')[0]) for i in filelines[5:]])\n",
    "fechas= pd.to_datetime(np.array([i.split(',')[-1].split(' ')[1] for i in filelines[5:]]))\n",
    "\n",
    "ini = fechas.get_loc(start) #pos of wupt.\n",
    "for ID,fecha in zip(IDs[ini:],fechas[ini:]):\n",
    "    #lee almacenamientos\n",
    "    v,r = wmf.models.read_float_basin_ncol(L[9]+'.StObin',ID, cu.ncells, 5)\n",
    "    v[2][v[2]> wmf.models.max_gravita[0]] = wmf.models.max_gravita[0][v[2]> wmf.models.max_gravita[0]] #sumideros?\n",
    "\n",
    "    #hg_mm log\n",
    "    bounds = np.arange(0,8,1); #tickslabels = np.array([int(np.round(math.exp(i))) for i in bounds])\n",
    "    tickslabels = np.array([1,20,80,150,420]); ticks = np.log(tickslabels)\n",
    "    cbar = \"YlGnBu\"; cmap,norm = SHop.get_intervalcmap(bounds,cbar)\n",
    "    cu.Plot_basinClean(np.log(v[2]), cmap= pl.get_cmap(cbar),show_cbar= False,\n",
    "                       cbar_ticks= ticks,\n",
    "                       cbar_ticklabels= tickslabels,\n",
    "                       figsize=(15,20), #dpi=120,\n",
    "                       ruta= '%s%s'%(ruta_map_hglogs,fecha.strftime('%Y%m%d%H%M')))\n",
    "    pl.close()\n",
    "\n",
    "    #hu+hg sat\n",
    "    bounds = np.arange(0,100,10); cbar = 'BuPu' ; cmap,norm = SHop.get_intervalcmap(bounds,cbar)\n",
    "    porc_sat = ((v[0]+v[2])/(wmf.models.max_capilar+wmf.models.max_gravita))*100\n",
    "    cu.Plot_basinClean(porc_sat, cmap= pl.get_cmap(cbar),show_cbar= False,\n",
    "                       cbar_ticks= bounds,\n",
    "    #                    cbar_ticklabels= tickslabels,\n",
    "                       figsize=(15,20), #dpi=120,\n",
    "                       ruta= '%s%s'%(ruta_map_psats,fecha.strftime('%Y%m%d%H%M')))\n",
    "    pl.close()\n",
    "    # print('Graphics are generated: maps HS.')"
   ]
  },
  {
   "cell_type": "code",
   "execution_count": null,
   "metadata": {
    "hidden": true
   },
   "outputs": [],
   "source": []
  },
  {
   "cell_type": "code",
   "execution_count": 6,
   "metadata": {
    "ExecuteTime": {
     "end_time": "2021-03-13T02:26:58.906306Z",
     "start_time": "2021-03-13T02:26:58.295562Z"
    },
    "hidden": true
   },
   "outputs": [
    {
     "data": {
      "text/plain": [
       "5888"
      ]
     },
     "execution_count": 6,
     "metadata": {},
     "output_type": "execute_result"
    }
   ],
   "source": [
    "# res = os.system('rsync -avz /home/socastillogi/jupyter/git/SHop/project_files/results/graficas/humedaddelsuelo/mapas user2var@host2var:/var/www/data/modelo_hidrologico_op/humedaddelsuelo/')\n",
    "# res"
   ]
  }
 ],
 "metadata": {
  "kernelspec": {
   "display_name": "socastillogi-Python3",
   "language": "python",
   "name": "socastillogi-python3"
  },
  "language_info": {
   "codemirror_mode": {
    "name": "ipython",
    "version": 3
   },
   "file_extension": ".py",
   "mimetype": "text/x-python",
   "name": "python",
   "nbconvert_exporter": "python",
   "pygments_lexer": "ipython3",
   "version": "3.8.5"
  },
  "toc": {
   "base_numbering": 1,
   "nav_menu": {},
   "number_sections": true,
   "sideBar": true,
   "skip_h1_title": false,
   "title_cell": "Table of Contents",
   "title_sidebar": "Contents",
   "toc_cell": false,
   "toc_position": {},
   "toc_section_display": true,
   "toc_window_display": false
  },
  "varInspector": {
   "cols": {
    "lenName": 16,
    "lenType": 16,
    "lenVar": 40
   },
   "kernels_config": {
    "python": {
     "delete_cmd_postfix": "",
     "delete_cmd_prefix": "del ",
     "library": "var_list.py",
     "varRefreshCmd": "print(var_dic_list())"
    },
    "r": {
     "delete_cmd_postfix": ") ",
     "delete_cmd_prefix": "rm(",
     "library": "var_list.r",
     "varRefreshCmd": "cat(var_dic_list()) "
    }
   },
   "types_to_exclude": [
    "module",
    "function",
    "builtin_function_or_method",
    "instance",
    "_Feature"
   ],
   "window_display": false
  }
 },
 "nbformat": 4,
 "nbformat_minor": 2
}
